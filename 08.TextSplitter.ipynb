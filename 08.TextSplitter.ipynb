{
 "cells": [
  {
   "cell_type": "code",
   "execution_count": 1,
   "id": "79252092",
   "metadata": {},
   "outputs": [],
   "source": [
    "from langchain_community.document_loaders import WikipediaLoader\n",
    "loader = WikipediaLoader(query=\"카카오_(기업)\", lang=\"ko\",load_max_docs=1, doc_content_chars_max=6000)\n",
    "docs = loader.load()"
   ]
  },
  {
   "cell_type": "code",
   "execution_count": 3,
   "id": "15a4bf35",
   "metadata": {},
   "outputs": [
    {
     "name": "stderr",
     "output_type": "stream",
     "text": [
      "Created a chunk of size 106, which is longer than the specified 100\n",
      "Created a chunk of size 2122, which is longer than the specified 100\n",
      "Created a chunk of size 271, which is longer than the specified 100\n",
      "Created a chunk of size 452, which is longer than the specified 100\n",
      "Created a chunk of size 219, which is longer than the specified 100\n",
      "Created a chunk of size 273, which is longer than the specified 100\n",
      "Created a chunk of size 310, which is longer than the specified 100\n",
      "Created a chunk of size 133, which is longer than the specified 100\n",
      "Created a chunk of size 416, which is longer than the specified 100\n",
      "Created a chunk of size 824, which is longer than the specified 100\n",
      "Created a chunk of size 457, which is longer than the specified 100\n"
     ]
    }
   ],
   "source": [
    "from langchain_text_splitters import CharacterTextSplitter\n",
    "\n",
    "text_splitter = CharacterTextSplitter(\n",
    "    separator=\"\\n\\n\",\n",
    "    chunk_size=100,\n",
    "    chunk_overlap=20,\n",
    "    length_function=len,\n",
    "    is_separator_regex=True\n",
    ")\n",
    "\n",
    "texts = text_splitter.split_documents(docs)"
   ]
  },
  {
   "cell_type": "code",
   "execution_count": 4,
   "id": "c47f3649",
   "metadata": {},
   "outputs": [
    {
     "data": {
      "text/plain": [
       "19"
      ]
     },
     "execution_count": 4,
     "metadata": {},
     "output_type": "execute_result"
    }
   ],
   "source": [
    "len(texts)"
   ]
  },
  {
   "cell_type": "code",
   "execution_count": 6,
   "id": "6d7530d5",
   "metadata": {},
   "outputs": [
    {
     "name": "stdout",
     "output_type": "stream",
     "text": [
      "Chunk Size: 106, Page Content: 주식회사 카카오(영어: Kakao Corp.)는 대한민국의 IT 기업이다. 국내 1위 모바일 메신저인 카카오톡을 비롯하여, 다음, 카카오 T, 멜론 등 다양한 모바일 서비스를 제공\n",
      "----------------------------------------------------------------------\n",
      "Chunk Size: 8, Page Content: == 역사 ==\n",
      "----------------------------------------------------------------------\n",
      "Chunk Size: 2122, Page Content: 1995년 2월 16일 박건희와 이재웅이 '다음커뮤니케이션' 공동 설립\n",
      "1997년 5월 대한민국 최초 무료 웹 메일 서비스 한메일 오픈 (현재의 Daum 메일)\n",
      "1999년 7월 포\n",
      "----------------------------------------------------------------------\n",
      "Chunk Size: 271, Page Content: 2018년 1월 미화 10억 달러 해외 투자 유치\n",
      "2018년 3월 여민수-조수용 공동대표 취임\n",
      "2018년 9월 카카오‧카카오M 합병\n",
      "2019년 12월 카카오엔터프라이즈 출범\n",
      "201\n",
      "----------------------------------------------------------------------\n",
      "Chunk Size: 452, Page Content: 2020년 6월 1일 \"한국카카오은행주식회사\"를 주식회사 카카오뱅크로 법인명 변경\n",
      "2020년 12월 카카오톡 지갑 출시\n",
      "2021년 11월 카카오재팬, 카카오픽코마로 사명 변경\n",
      "20\n",
      "----------------------------------------------------------------------\n"
     ]
    }
   ],
   "source": [
    "for text in texts[:5]:\n",
    "    print(f\"Chunk Size: {len(text.page_content)}, Page Content: {text.page_content[:100]}\")\n",
    "    print(\"-\" * 70)"
   ]
  },
  {
   "cell_type": "code",
   "execution_count": 7,
   "id": "0bdeb4f2",
   "metadata": {},
   "outputs": [],
   "source": [
    "from langchain_text_splitters import RecursiveCharacterTextSplitter\n",
    "text_splitter = RecursiveCharacterTextSplitter(\n",
    "    separators=[\"\\n\\n\", \"\\n\", \" \", \"\"],\n",
    "    chunk_size=100,\n",
    "    chunk_overlap=20,\n",
    "    length_function=len,\n",
    "    is_separator_regex=False\n",
    ")\n",
    "\n",
    "texts = text_splitter.split_documents(docs)"
   ]
  },
  {
   "cell_type": "code",
   "execution_count": 8,
   "id": "c84e3db7",
   "metadata": {},
   "outputs": [
    {
     "data": {
      "text/plain": [
       "86"
      ]
     },
     "execution_count": 8,
     "metadata": {},
     "output_type": "execute_result"
    }
   ],
   "source": [
    "len(texts)"
   ]
  },
  {
   "cell_type": "code",
   "execution_count": 10,
   "id": "06f63251",
   "metadata": {},
   "outputs": [
    {
     "name": "stdout",
     "output_type": "stream",
     "text": [
      "Chunk Size: 97, Page Content: 주식회사 카카오(영어: Kakao Corp.)는 대한민국의 IT 기업이다. 국내 1위 모바일 메신저인 카카오톡을 비롯하여, 다음, 카카오 T, 멜론 등 다양한 모바일 서비스를\n",
      "----------------------------------------------------------------------\n",
      "Chunk Size: 26, Page Content: 멜론 등 다양한 모바일 서비스를 제공하고 있다.\n",
      "----------------------------------------------------------------------\n",
      "Chunk Size: 8, Page Content: == 역사 ==\n",
      "----------------------------------------------------------------------\n",
      "Chunk Size: 89, Page Content: 1995년 2월 16일 박건희와 이재웅이 '다음커뮤니케이션' 공동 설립\n",
      "1997년 5월 대한민국 최초 무료 웹 메일 서비스 한메일 오픈 (현재의 Daum 메일)\n",
      "----------------------------------------------------------------------\n",
      "Chunk Size: 90, Page Content: 1999년 7월 포털 사이트 '다음'으로 재단장\n",
      "1999년 11월 11일 코스닥 등록\n",
      "2000년 1월 다음 검색 서비스 오픈\n",
      "2000년 7월 다음 금융플라자 오픈\n",
      "----------------------------------------------------------------------\n",
      "Chunk Size: 78, Page Content: 2001년 9월 다음세대재단 설립\n",
      "2002년 1월 미디어2.0 인수\n",
      "2003년 1월 미디어다음 오픈\n",
      "2004년 3월 제주도 이전 협약식 체결\n",
      "----------------------------------------------------------------------\n",
      "Chunk Size: 91, Page Content: 2004년 7월 일본 시장 진출 / 미국 라이코스 인수\n",
      "2004년 12월 인터넷전화업체 스카이프와 전략적 제휴\n",
      "2005년 3월 CJ인터넷과 검색, 게임 전략적 제휴\n",
      "----------------------------------------------------------------------\n",
      "Chunk Size: 88, Page Content: 2006년 4월 석종훈 다음미디어 부문 대표, 각자 대표이사 선임\n",
      "2006년 11월 29일 카카오 전신인 (주)아이위랩 설립\n",
      "2007년 1월 다음 tv팟 오픈\n",
      "----------------------------------------------------------------------\n",
      "Chunk Size: 90, Page Content: 2007년 1월 다음 tv팟 오픈\n",
      "2007년 5월 검색엔진 자체 개발\n",
      "2007년 7월 티스토리 지분 100% 확보\n",
      "2008년 11월 다음체 개발, 최초 무료 배포\n",
      "----------------------------------------------------------------------\n",
      "Chunk Size: 71, Page Content: 2009년 1월 지도 서비스 스카이뷰, 로드뷰 정식 오픈\n",
      "2009년 3월 최세훈 대표이사 취임\n",
      "2009년 4월 모바일 다음 오픈\n",
      "----------------------------------------------------------------------\n"
     ]
    }
   ],
   "source": [
    "for text in texts[:10]:\n",
    "    print(f\"Chunk Size: {len(text.page_content)}, Page Content: {text.page_content[:100]}\")\n",
    "    print(\"-\" * 70)"
   ]
  },
  {
   "cell_type": "code",
   "execution_count": 11,
   "id": "cb712075",
   "metadata": {},
   "outputs": [
    {
     "name": "stdout",
     "output_type": "stream",
     "text": [
      "Collecting langchain_experimental==0.3.4\n",
      "  Downloading langchain_experimental-0.3.4-py3-none-any.whl.metadata (1.7 kB)\n",
      "Requirement already satisfied: langchain-community<0.4.0,>=0.3.0 in c:\\python311\\lib\\site-packages (from langchain_experimental==0.3.4) (0.3.18)\n",
      "Requirement already satisfied: langchain-core<0.4.0,>=0.3.28 in c:\\python311\\lib\\site-packages (from langchain_experimental==0.3.4) (0.3.63)\n",
      "Requirement already satisfied: langchain<1.0.0,>=0.3.19 in c:\\python311\\lib\\site-packages (from langchain-community<0.4.0,>=0.3.0->langchain_experimental==0.3.4) (0.3.19)\n",
      "Requirement already satisfied: SQLAlchemy<3,>=1.4 in c:\\python311\\lib\\site-packages (from langchain-community<0.4.0,>=0.3.0->langchain_experimental==0.3.4) (2.0.41)\n",
      "Requirement already satisfied: requests<3,>=2 in c:\\python311\\lib\\site-packages (from langchain-community<0.4.0,>=0.3.0->langchain_experimental==0.3.4) (2.32.3)\n",
      "Requirement already satisfied: PyYAML>=5.3 in c:\\python311\\lib\\site-packages (from langchain-community<0.4.0,>=0.3.0->langchain_experimental==0.3.4) (6.0.2)\n",
      "Requirement already satisfied: aiohttp<4.0.0,>=3.8.3 in c:\\python311\\lib\\site-packages (from langchain-community<0.4.0,>=0.3.0->langchain_experimental==0.3.4) (3.12.7)\n",
      "Requirement already satisfied: tenacity!=8.4.0,<10,>=8.1.0 in c:\\python311\\lib\\site-packages (from langchain-community<0.4.0,>=0.3.0->langchain_experimental==0.3.4) (9.1.2)\n",
      "Requirement already satisfied: dataclasses-json<0.7,>=0.5.7 in c:\\python311\\lib\\site-packages (from langchain-community<0.4.0,>=0.3.0->langchain_experimental==0.3.4) (0.6.7)\n",
      "Requirement already satisfied: pydantic-settings<3.0.0,>=2.4.0 in c:\\python311\\lib\\site-packages (from langchain-community<0.4.0,>=0.3.0->langchain_experimental==0.3.4) (2.9.1)\n",
      "Requirement already satisfied: langsmith<0.4,>=0.1.125 in c:\\python311\\lib\\site-packages (from langchain-community<0.4.0,>=0.3.0->langchain_experimental==0.3.4) (0.3.44)\n",
      "Requirement already satisfied: httpx-sse<1.0.0,>=0.4.0 in c:\\python311\\lib\\site-packages (from langchain-community<0.4.0,>=0.3.0->langchain_experimental==0.3.4) (0.4.0)\n",
      "Requirement already satisfied: numpy<2,>=1.26.4 in c:\\python311\\lib\\site-packages (from langchain-community<0.4.0,>=0.3.0->langchain_experimental==0.3.4) (1.26.4)\n",
      "Requirement already satisfied: aiohappyeyeballs>=2.5.0 in c:\\python311\\lib\\site-packages (from aiohttp<4.0.0,>=3.8.3->langchain-community<0.4.0,>=0.3.0->langchain_experimental==0.3.4) (2.6.1)\n",
      "Requirement already satisfied: aiosignal>=1.1.2 in c:\\python311\\lib\\site-packages (from aiohttp<4.0.0,>=3.8.3->langchain-community<0.4.0,>=0.3.0->langchain_experimental==0.3.4) (1.3.2)\n",
      "Requirement already satisfied: attrs>=17.3.0 in c:\\python311\\lib\\site-packages (from aiohttp<4.0.0,>=3.8.3->langchain-community<0.4.0,>=0.3.0->langchain_experimental==0.3.4) (25.3.0)\n",
      "Requirement already satisfied: frozenlist>=1.1.1 in c:\\python311\\lib\\site-packages (from aiohttp<4.0.0,>=3.8.3->langchain-community<0.4.0,>=0.3.0->langchain_experimental==0.3.4) (1.6.2)\n",
      "Requirement already satisfied: multidict<7.0,>=4.5 in c:\\python311\\lib\\site-packages (from aiohttp<4.0.0,>=3.8.3->langchain-community<0.4.0,>=0.3.0->langchain_experimental==0.3.4) (6.4.4)\n",
      "Requirement already satisfied: propcache>=0.2.0 in c:\\python311\\lib\\site-packages (from aiohttp<4.0.0,>=3.8.3->langchain-community<0.4.0,>=0.3.0->langchain_experimental==0.3.4) (0.3.1)\n",
      "Requirement already satisfied: yarl<2.0,>=1.17.0 in c:\\python311\\lib\\site-packages (from aiohttp<4.0.0,>=3.8.3->langchain-community<0.4.0,>=0.3.0->langchain_experimental==0.3.4) (1.20.0)\n",
      "Requirement already satisfied: marshmallow<4.0.0,>=3.18.0 in c:\\python311\\lib\\site-packages (from dataclasses-json<0.7,>=0.5.7->langchain-community<0.4.0,>=0.3.0->langchain_experimental==0.3.4) (3.26.1)\n",
      "Requirement already satisfied: typing-inspect<1,>=0.4.0 in c:\\python311\\lib\\site-packages (from dataclasses-json<0.7,>=0.5.7->langchain-community<0.4.0,>=0.3.0->langchain_experimental==0.3.4) (0.9.0)\n",
      "Requirement already satisfied: langchain-text-splitters<1.0.0,>=0.3.6 in c:\\python311\\lib\\site-packages (from langchain<1.0.0,>=0.3.19->langchain-community<0.4.0,>=0.3.0->langchain_experimental==0.3.4) (0.3.8)\n",
      "Requirement already satisfied: pydantic<3.0.0,>=2.7.4 in c:\\python311\\lib\\site-packages (from langchain<1.0.0,>=0.3.19->langchain-community<0.4.0,>=0.3.0->langchain_experimental==0.3.4) (2.11.5)\n",
      "Requirement already satisfied: jsonpatch<2.0,>=1.33 in c:\\python311\\lib\\site-packages (from langchain-core<0.4.0,>=0.3.28->langchain_experimental==0.3.4) (1.33)\n",
      "Requirement already satisfied: packaging<25,>=23.2 in c:\\users\\tason\\appdata\\roaming\\python\\python311\\site-packages (from langchain-core<0.4.0,>=0.3.28->langchain_experimental==0.3.4) (24.2)\n",
      "Requirement already satisfied: typing-extensions>=4.7 in c:\\users\\tason\\appdata\\roaming\\python\\python311\\site-packages (from langchain-core<0.4.0,>=0.3.28->langchain_experimental==0.3.4) (4.12.2)\n",
      "Requirement already satisfied: jsonpointer>=1.9 in c:\\python311\\lib\\site-packages (from jsonpatch<2.0,>=1.33->langchain-core<0.4.0,>=0.3.28->langchain_experimental==0.3.4) (3.0.0)\n",
      "Requirement already satisfied: httpx<1,>=0.23.0 in c:\\python311\\lib\\site-packages (from langsmith<0.4,>=0.1.125->langchain-community<0.4.0,>=0.3.0->langchain_experimental==0.3.4) (0.28.1)\n",
      "Requirement already satisfied: orjson<4.0.0,>=3.9.14 in c:\\python311\\lib\\site-packages (from langsmith<0.4,>=0.1.125->langchain-community<0.4.0,>=0.3.0->langchain_experimental==0.3.4) (3.10.18)\n",
      "Requirement already satisfied: requests-toolbelt<2.0.0,>=1.0.0 in c:\\python311\\lib\\site-packages (from langsmith<0.4,>=0.1.125->langchain-community<0.4.0,>=0.3.0->langchain_experimental==0.3.4) (1.0.0)\n",
      "Requirement already satisfied: zstandard<0.24.0,>=0.23.0 in c:\\python311\\lib\\site-packages (from langsmith<0.4,>=0.1.125->langchain-community<0.4.0,>=0.3.0->langchain_experimental==0.3.4) (0.23.0)\n",
      "Requirement already satisfied: anyio in c:\\python311\\lib\\site-packages (from httpx<1,>=0.23.0->langsmith<0.4,>=0.1.125->langchain-community<0.4.0,>=0.3.0->langchain_experimental==0.3.4) (4.9.0)\n",
      "Requirement already satisfied: certifi in c:\\python311\\lib\\site-packages (from httpx<1,>=0.23.0->langsmith<0.4,>=0.1.125->langchain-community<0.4.0,>=0.3.0->langchain_experimental==0.3.4) (2025.4.26)\n",
      "Requirement already satisfied: httpcore==1.* in c:\\python311\\lib\\site-packages (from httpx<1,>=0.23.0->langsmith<0.4,>=0.1.125->langchain-community<0.4.0,>=0.3.0->langchain_experimental==0.3.4) (1.0.9)\n",
      "Requirement already satisfied: idna in c:\\python311\\lib\\site-packages (from httpx<1,>=0.23.0->langsmith<0.4,>=0.1.125->langchain-community<0.4.0,>=0.3.0->langchain_experimental==0.3.4) (3.10)\n",
      "Requirement already satisfied: h11>=0.16 in c:\\python311\\lib\\site-packages (from httpcore==1.*->httpx<1,>=0.23.0->langsmith<0.4,>=0.1.125->langchain-community<0.4.0,>=0.3.0->langchain_experimental==0.3.4) (0.16.0)\n",
      "Requirement already satisfied: annotated-types>=0.6.0 in c:\\python311\\lib\\site-packages (from pydantic<3.0.0,>=2.7.4->langchain<1.0.0,>=0.3.19->langchain-community<0.4.0,>=0.3.0->langchain_experimental==0.3.4) (0.7.0)\n",
      "Requirement already satisfied: pydantic-core==2.33.2 in c:\\python311\\lib\\site-packages (from pydantic<3.0.0,>=2.7.4->langchain<1.0.0,>=0.3.19->langchain-community<0.4.0,>=0.3.0->langchain_experimental==0.3.4) (2.33.2)\n",
      "Requirement already satisfied: typing-inspection>=0.4.0 in c:\\python311\\lib\\site-packages (from pydantic<3.0.0,>=2.7.4->langchain<1.0.0,>=0.3.19->langchain-community<0.4.0,>=0.3.0->langchain_experimental==0.3.4) (0.4.1)\n",
      "Requirement already satisfied: python-dotenv>=0.21.0 in c:\\python311\\lib\\site-packages (from pydantic-settings<3.0.0,>=2.4.0->langchain-community<0.4.0,>=0.3.0->langchain_experimental==0.3.4) (1.1.0)\n",
      "Requirement already satisfied: charset-normalizer<4,>=2 in c:\\python311\\lib\\site-packages (from requests<3,>=2->langchain-community<0.4.0,>=0.3.0->langchain_experimental==0.3.4) (3.4.2)\n",
      "Requirement already satisfied: urllib3<3,>=1.21.1 in c:\\python311\\lib\\site-packages (from requests<3,>=2->langchain-community<0.4.0,>=0.3.0->langchain_experimental==0.3.4) (2.4.0)\n",
      "Requirement already satisfied: greenlet>=1 in c:\\python311\\lib\\site-packages (from SQLAlchemy<3,>=1.4->langchain-community<0.4.0,>=0.3.0->langchain_experimental==0.3.4) (3.2.2)\n",
      "Requirement already satisfied: mypy-extensions>=0.3.0 in c:\\python311\\lib\\site-packages (from typing-inspect<1,>=0.4.0->dataclasses-json<0.7,>=0.5.7->langchain-community<0.4.0,>=0.3.0->langchain_experimental==0.3.4) (1.1.0)\n",
      "Requirement already satisfied: sniffio>=1.1 in c:\\python311\\lib\\site-packages (from anyio->httpx<1,>=0.23.0->langsmith<0.4,>=0.1.125->langchain-community<0.4.0,>=0.3.0->langchain_experimental==0.3.4) (1.3.1)\n",
      "Downloading langchain_experimental-0.3.4-py3-none-any.whl (209 kB)\n",
      "Installing collected packages: langchain_experimental\n",
      "Successfully installed langchain_experimental-0.3.4\n"
     ]
    }
   ],
   "source": [
    "!pip install langchain_experimental==0.3.4"
   ]
  },
  {
   "cell_type": "code",
   "execution_count": 13,
   "id": "ed6d80ec",
   "metadata": {},
   "outputs": [],
   "source": [
    "from langchain_experimental.text_splitter import SemanticChunker\n",
    "from langchain_openai.embeddings import OpenAIEmbeddings\n",
    "\n",
    "text_splitter = SemanticChunker(OpenAIEmbeddings())"
   ]
  },
  {
   "cell_type": "code",
   "execution_count": 14,
   "id": "4ff62e4e",
   "metadata": {},
   "outputs": [],
   "source": [
    "texts =text_splitter.split_documents(docs)"
   ]
  },
  {
   "cell_type": "code",
   "execution_count": 15,
   "id": "079bb7a7",
   "metadata": {},
   "outputs": [
    {
     "data": {
      "text/plain": [
       "4"
      ]
     },
     "execution_count": 15,
     "metadata": {},
     "output_type": "execute_result"
    }
   ],
   "source": [
    "len(texts)"
   ]
  },
  {
   "cell_type": "code",
   "execution_count": 16,
   "id": "9dd50890",
   "metadata": {},
   "outputs": [
    {
     "name": "stdout",
     "output_type": "stream",
     "text": [
      "Chunk Size: 2116, Page Content: 주식회사 카카오(영어: Kakao Corp.)는 대한민국의 IT 기업이다. 국내 1위 모바일 메신저인 카카오톡을 비롯하여, 다음, 카카오 T, 멜론 등 다양한 모바일 서비스를 제공\n",
      "----------------------------------------------------------------------\n",
      "Chunk Size: 2208, Page Content: 뿐만 아니라 국내에서 가장 파워풀한 IP로 평가받는 카카오프렌즈 역시 채팅창 임베드용 이모티콘에서 출발했고, 카카오의 CIC인 커머스부문 역시 '카카오톡 선물하기'라는 아이디어에서\n",
      "----------------------------------------------------------------------\n",
      "Chunk Size: 219, Page Content: 최근 라이코스시네마와 웹온(WebOn) 등의 신규 서비스를 새로 론칭했다. 2009년 11월 다음 글로벌홀딩스 부분에서 최초로 흑자(12억 원 규모)를 달성했다. 2010년 8월,\n",
      "----------------------------------------------------------------------\n",
      "Chunk Size: 1337, Page Content: 이 규정은 다른 카카오 계열사의 모든 임직원에게도 적용된다. 예를 들어 김범수 이사회 의장의 영어 이름은 브라이언(영어: Brian)이다. 임직원들끼리 다른 임직원을 직급 등의 호\n",
      "----------------------------------------------------------------------\n"
     ]
    }
   ],
   "source": [
    "for text in texts[:10]:\n",
    "    print(f\"Chunk Size: {len(text.page_content)}, Page Content: {text.page_content[:100]}\")\n",
    "    print(\"-\" * 70)"
   ]
  }
 ],
 "metadata": {
  "kernelspec": {
   "display_name": "Python 3",
   "language": "python",
   "name": "python3"
  },
  "language_info": {
   "codemirror_mode": {
    "name": "ipython",
    "version": 3
   },
   "file_extension": ".py",
   "mimetype": "text/x-python",
   "name": "python",
   "nbconvert_exporter": "python",
   "pygments_lexer": "ipython3",
   "version": "3.11.9"
  }
 },
 "nbformat": 4,
 "nbformat_minor": 5
}
