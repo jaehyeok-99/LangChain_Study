{
 "cells": [
  {
   "cell_type": "code",
   "execution_count": 13,
   "id": "ed20812e",
   "metadata": {},
   "outputs": [
    {
     "name": "stdout",
     "output_type": "stream",
     "text": [
      "Requirement already satisfied: pip in c:\\python311\\lib\\site-packages (24.0)\n",
      "Collecting pip\n",
      "  Downloading pip-25.1.1-py3-none-any.whl.metadata (3.6 kB)\n",
      "Downloading pip-25.1.1-py3-none-any.whl (1.8 MB)\n",
      "   ---------------------------------------- 0.0/1.8 MB ? eta -:--:--\n",
      "   ---------------------------------------- 0.0/1.8 MB ? eta -:--:--\n",
      "   ---- ----------------------------------- 0.2/1.8 MB 4.0 MB/s eta 0:00:01\n",
      "   ------- -------------------------------- 0.3/1.8 MB 3.5 MB/s eta 0:00:01\n",
      "   ------- -------------------------------- 0.4/1.8 MB 2.8 MB/s eta 0:00:01\n",
      "   --------------- ------------------------ 0.7/1.8 MB 3.7 MB/s eta 0:00:01\n",
      "   ------------------------ --------------- 1.1/1.8 MB 4.7 MB/s eta 0:00:01\n",
      "   ----------------------------------- ---- 1.6/1.8 MB 5.7 MB/s eta 0:00:01\n",
      "   ---------------------------------------- 1.8/1.8 MB 5.8 MB/s eta 0:00:00\n",
      "Installing collected packages: pip\n",
      "  Attempting uninstall: pip\n",
      "    Found existing installation: pip 24.0\n",
      "    Uninstalling pip-24.0:\n",
      "      Successfully uninstalled pip-24.0\n",
      "Successfully installed pip-25.1.1\n",
      "Note: you may need to restart the kernel to use updated packages.\n"
     ]
    },
    {
     "name": "stderr",
     "output_type": "stream",
     "text": [
      "  WARNING: The scripts pip.exe, pip3.11.exe and pip3.exe are installed in 'c:\\Python311\\Scripts' which is not on PATH.\n",
      "  Consider adding this directory to PATH or, if you prefer to suppress this warning, use --no-warn-script-location.\n"
     ]
    }
   ],
   "source": [
    "pip install --upgrade pip"
   ]
  },
  {
   "cell_type": "code",
   "execution_count": 15,
   "id": "c546a182",
   "metadata": {},
   "outputs": [
    {
     "name": "stdout",
     "output_type": "stream",
     "text": [
      "Collecting langchain-openai\n",
      "  Downloading langchain_openai-0.3.19-py3-none-any.whl.metadata (2.3 kB)\n",
      "Collecting langchain-core<1.0.0,>=0.3.63 (from langchain-openai)\n",
      "  Downloading langchain_core-0.3.63-py3-none-any.whl.metadata (5.8 kB)\n",
      "Collecting openai<2.0.0,>=1.68.2 (from langchain-openai)\n",
      "  Using cached openai-1.84.0-py3-none-any.whl.metadata (25 kB)\n",
      "Collecting tiktoken<1,>=0.7 (from langchain-openai)\n",
      "  Downloading tiktoken-0.9.0-cp311-cp311-win_amd64.whl.metadata (6.8 kB)\n",
      "Collecting langsmith<0.4,>=0.1.126 (from langchain-core<1.0.0,>=0.3.63->langchain-openai)\n",
      "  Downloading langsmith-0.3.44-py3-none-any.whl.metadata (15 kB)\n",
      "Collecting tenacity!=8.4.0,<10.0.0,>=8.1.0 (from langchain-core<1.0.0,>=0.3.63->langchain-openai)\n",
      "  Downloading tenacity-9.1.2-py3-none-any.whl.metadata (1.2 kB)\n",
      "Collecting jsonpatch<2.0,>=1.33 (from langchain-core<1.0.0,>=0.3.63->langchain-openai)\n",
      "  Using cached jsonpatch-1.33-py2.py3-none-any.whl.metadata (3.0 kB)\n",
      "Collecting PyYAML>=5.3 (from langchain-core<1.0.0,>=0.3.63->langchain-openai)\n",
      "  Downloading PyYAML-6.0.2-cp311-cp311-win_amd64.whl.metadata (2.1 kB)\n",
      "Requirement already satisfied: packaging<25,>=23.2 in c:\\users\\tason\\appdata\\roaming\\python\\python311\\site-packages (from langchain-core<1.0.0,>=0.3.63->langchain-openai) (24.2)\n",
      "Requirement already satisfied: typing-extensions>=4.7 in c:\\users\\tason\\appdata\\roaming\\python\\python311\\site-packages (from langchain-core<1.0.0,>=0.3.63->langchain-openai) (4.12.2)\n",
      "Collecting pydantic>=2.7.4 (from langchain-core<1.0.0,>=0.3.63->langchain-openai)\n",
      "  Downloading pydantic-2.11.5-py3-none-any.whl.metadata (67 kB)\n",
      "Collecting jsonpointer>=1.9 (from jsonpatch<2.0,>=1.33->langchain-core<1.0.0,>=0.3.63->langchain-openai)\n",
      "  Using cached jsonpointer-3.0.0-py2.py3-none-any.whl.metadata (2.3 kB)\n",
      "Collecting httpx<1,>=0.23.0 (from langsmith<0.4,>=0.1.126->langchain-core<1.0.0,>=0.3.63->langchain-openai)\n",
      "  Using cached httpx-0.28.1-py3-none-any.whl.metadata (7.1 kB)\n",
      "Collecting orjson<4.0.0,>=3.9.14 (from langsmith<0.4,>=0.1.126->langchain-core<1.0.0,>=0.3.63->langchain-openai)\n",
      "  Downloading orjson-3.10.18-cp311-cp311-win_amd64.whl.metadata (43 kB)\n",
      "Collecting requests<3,>=2 (from langsmith<0.4,>=0.1.126->langchain-core<1.0.0,>=0.3.63->langchain-openai)\n",
      "  Using cached requests-2.32.3-py3-none-any.whl.metadata (4.6 kB)\n",
      "Collecting requests-toolbelt<2.0.0,>=1.0.0 (from langsmith<0.4,>=0.1.126->langchain-core<1.0.0,>=0.3.63->langchain-openai)\n",
      "  Using cached requests_toolbelt-1.0.0-py2.py3-none-any.whl.metadata (14 kB)\n",
      "Collecting zstandard<0.24.0,>=0.23.0 (from langsmith<0.4,>=0.1.126->langchain-core<1.0.0,>=0.3.63->langchain-openai)\n",
      "  Downloading zstandard-0.23.0-cp311-cp311-win_amd64.whl.metadata (3.0 kB)\n",
      "Collecting anyio (from httpx<1,>=0.23.0->langsmith<0.4,>=0.1.126->langchain-core<1.0.0,>=0.3.63->langchain-openai)\n",
      "  Downloading anyio-4.9.0-py3-none-any.whl.metadata (4.7 kB)\n",
      "Collecting certifi (from httpx<1,>=0.23.0->langsmith<0.4,>=0.1.126->langchain-core<1.0.0,>=0.3.63->langchain-openai)\n",
      "  Using cached certifi-2025.4.26-py3-none-any.whl.metadata (2.5 kB)\n",
      "Collecting httpcore==1.* (from httpx<1,>=0.23.0->langsmith<0.4,>=0.1.126->langchain-core<1.0.0,>=0.3.63->langchain-openai)\n",
      "  Using cached httpcore-1.0.9-py3-none-any.whl.metadata (21 kB)\n",
      "Collecting idna (from httpx<1,>=0.23.0->langsmith<0.4,>=0.1.126->langchain-core<1.0.0,>=0.3.63->langchain-openai)\n",
      "  Using cached idna-3.10-py3-none-any.whl.metadata (10 kB)\n",
      "Collecting h11>=0.16 (from httpcore==1.*->httpx<1,>=0.23.0->langsmith<0.4,>=0.1.126->langchain-core<1.0.0,>=0.3.63->langchain-openai)\n",
      "  Using cached h11-0.16.0-py3-none-any.whl.metadata (8.3 kB)\n",
      "Collecting distro<2,>=1.7.0 (from openai<2.0.0,>=1.68.2->langchain-openai)\n",
      "  Using cached distro-1.9.0-py3-none-any.whl.metadata (6.8 kB)\n",
      "Collecting jiter<1,>=0.4.0 (from openai<2.0.0,>=1.68.2->langchain-openai)\n",
      "  Downloading jiter-0.10.0-cp311-cp311-win_amd64.whl.metadata (5.3 kB)\n",
      "Collecting sniffio (from openai<2.0.0,>=1.68.2->langchain-openai)\n",
      "  Using cached sniffio-1.3.1-py3-none-any.whl.metadata (3.9 kB)\n",
      "Collecting tqdm>4 (from openai<2.0.0,>=1.68.2->langchain-openai)\n",
      "  Using cached tqdm-4.67.1-py3-none-any.whl.metadata (57 kB)\n",
      "Collecting annotated-types>=0.6.0 (from pydantic>=2.7.4->langchain-core<1.0.0,>=0.3.63->langchain-openai)\n",
      "  Using cached annotated_types-0.7.0-py3-none-any.whl.metadata (15 kB)\n",
      "Collecting pydantic-core==2.33.2 (from pydantic>=2.7.4->langchain-core<1.0.0,>=0.3.63->langchain-openai)\n",
      "  Downloading pydantic_core-2.33.2-cp311-cp311-win_amd64.whl.metadata (6.9 kB)\n",
      "Collecting typing-inspection>=0.4.0 (from pydantic>=2.7.4->langchain-core<1.0.0,>=0.3.63->langchain-openai)\n",
      "  Downloading typing_inspection-0.4.1-py3-none-any.whl.metadata (2.6 kB)\n",
      "Collecting charset-normalizer<4,>=2 (from requests<3,>=2->langsmith<0.4,>=0.1.126->langchain-core<1.0.0,>=0.3.63->langchain-openai)\n",
      "  Downloading charset_normalizer-3.4.2-cp311-cp311-win_amd64.whl.metadata (36 kB)\n",
      "Collecting urllib3<3,>=1.21.1 (from requests<3,>=2->langsmith<0.4,>=0.1.126->langchain-core<1.0.0,>=0.3.63->langchain-openai)\n",
      "  Downloading urllib3-2.4.0-py3-none-any.whl.metadata (6.5 kB)\n",
      "Collecting regex>=2022.1.18 (from tiktoken<1,>=0.7->langchain-openai)\n",
      "  Downloading regex-2024.11.6-cp311-cp311-win_amd64.whl.metadata (41 kB)\n",
      "Requirement already satisfied: colorama in c:\\users\\tason\\appdata\\roaming\\python\\python311\\site-packages (from tqdm>4->openai<2.0.0,>=1.68.2->langchain-openai) (0.4.6)\n",
      "Downloading langchain_openai-0.3.19-py3-none-any.whl (64 kB)\n",
      "Downloading langchain_core-0.3.63-py3-none-any.whl (438 kB)\n",
      "Using cached jsonpatch-1.33-py2.py3-none-any.whl (12 kB)\n",
      "Downloading langsmith-0.3.44-py3-none-any.whl (361 kB)\n",
      "Using cached httpx-0.28.1-py3-none-any.whl (73 kB)\n",
      "Using cached httpcore-1.0.9-py3-none-any.whl (78 kB)\n",
      "Using cached openai-1.84.0-py3-none-any.whl (725 kB)\n",
      "Downloading anyio-4.9.0-py3-none-any.whl (100 kB)\n",
      "Using cached distro-1.9.0-py3-none-any.whl (20 kB)\n",
      "Downloading jiter-0.10.0-cp311-cp311-win_amd64.whl (209 kB)\n",
      "Downloading orjson-3.10.18-cp311-cp311-win_amd64.whl (134 kB)\n",
      "Downloading pydantic-2.11.5-py3-none-any.whl (444 kB)\n",
      "Downloading pydantic_core-2.33.2-cp311-cp311-win_amd64.whl (2.0 MB)\n",
      "   ---------------------------------------- 0.0/2.0 MB ? eta -:--:--\n",
      "   ---------------------------------------- 2.0/2.0 MB 10.8 MB/s eta 0:00:00\n",
      "Using cached requests-2.32.3-py3-none-any.whl (64 kB)\n",
      "Downloading charset_normalizer-3.4.2-cp311-cp311-win_amd64.whl (105 kB)\n",
      "Using cached idna-3.10-py3-none-any.whl (70 kB)\n",
      "Using cached requests_toolbelt-1.0.0-py2.py3-none-any.whl (54 kB)\n",
      "Downloading tenacity-9.1.2-py3-none-any.whl (28 kB)\n",
      "Downloading tiktoken-0.9.0-cp311-cp311-win_amd64.whl (893 kB)\n",
      "   ---------------------------------------- 0.0/893.9 kB ? eta -:--:--\n",
      "   --------------------------------------- 893.9/893.9 kB 10.2 MB/s eta 0:00:00\n",
      "Downloading urllib3-2.4.0-py3-none-any.whl (128 kB)\n",
      "Downloading zstandard-0.23.0-cp311-cp311-win_amd64.whl (495 kB)\n",
      "Using cached annotated_types-0.7.0-py3-none-any.whl (13 kB)\n",
      "Using cached certifi-2025.4.26-py3-none-any.whl (159 kB)\n",
      "Using cached h11-0.16.0-py3-none-any.whl (37 kB)\n",
      "Using cached jsonpointer-3.0.0-py2.py3-none-any.whl (7.6 kB)\n",
      "Downloading PyYAML-6.0.2-cp311-cp311-win_amd64.whl (161 kB)\n",
      "Downloading regex-2024.11.6-cp311-cp311-win_amd64.whl (274 kB)\n",
      "Using cached sniffio-1.3.1-py3-none-any.whl (10 kB)\n",
      "Using cached tqdm-4.67.1-py3-none-any.whl (78 kB)\n",
      "Downloading typing_inspection-0.4.1-py3-none-any.whl (14 kB)\n",
      "Installing collected packages: zstandard, urllib3, typing-inspection, tqdm, tenacity, sniffio, regex, PyYAML, pydantic-core, orjson, jsonpointer, jiter, idna, h11, distro, charset-normalizer, certifi, annotated-types, requests, pydantic, jsonpatch, httpcore, anyio, tiktoken, requests-toolbelt, httpx, openai, langsmith, langchain-core, langchain-openai\n",
      "\n",
      "   - --------------------------------------  1/30 [urllib3]\n",
      "   - --------------------------------------  1/30 [urllib3]\n",
      "   ---- -----------------------------------  3/30 [tqdm]\n",
      "   ---- -----------------------------------  3/30 [tqdm]\n",
      "   -------- -------------------------------  6/30 [regex]\n",
      "   --------- ------------------------------  7/30 [PyYAML]\n",
      "   -------------- ------------------------- 11/30 [jiter]\n",
      "   ----------------- ---------------------- 13/30 [h11]\n",
      "   ------------------ --------------------- 14/30 [distro]\n",
      "   -------------------- ------------------- 15/30 [charset-normalizer]\n",
      "   ------------------------ --------------- 18/30 [requests]\n",
      "   ------------------------- -------------- 19/30 [pydantic]\n",
      "   ------------------------- -------------- 19/30 [pydantic]\n",
      "   ------------------------- -------------- 19/30 [pydantic]\n",
      "   ------------------------- -------------- 19/30 [pydantic]\n",
      "   ------------------------- -------------- 19/30 [pydantic]\n",
      "   ------------------------- -------------- 19/30 [pydantic]\n",
      "   ---------------------------- ----------- 21/30 [httpcore]\n",
      "   ---------------------------- ----------- 21/30 [httpcore]\n",
      "   ----------------------------- ---------- 22/30 [anyio]\n",
      "   ----------------------------- ---------- 22/30 [anyio]\n",
      "   -------------------------------- ------- 24/30 [requests-toolbelt]\n",
      "   -------------------------------- ------- 24/30 [requests-toolbelt]\n",
      "   --------------------------------- ------ 25/30 [httpx]\n",
      "   ---------------------------------- ----- 26/30 [openai]\n",
      "   ---------------------------------- ----- 26/30 [openai]\n",
      "   ---------------------------------- ----- 26/30 [openai]\n",
      "   ---------------------------------- ----- 26/30 [openai]\n",
      "   ---------------------------------- ----- 26/30 [openai]\n",
      "   ---------------------------------- ----- 26/30 [openai]\n",
      "   ---------------------------------- ----- 26/30 [openai]\n",
      "   ---------------------------------- ----- 26/30 [openai]\n",
      "   ---------------------------------- ----- 26/30 [openai]\n",
      "   ---------------------------------- ----- 26/30 [openai]\n",
      "   ---------------------------------- ----- 26/30 [openai]\n",
      "   ---------------------------------- ----- 26/30 [openai]\n",
      "   ---------------------------------- ----- 26/30 [openai]\n",
      "   ---------------------------------- ----- 26/30 [openai]\n",
      "   ---------------------------------- ----- 26/30 [openai]\n",
      "   ---------------------------------- ----- 26/30 [openai]\n",
      "   ---------------------------------- ----- 26/30 [openai]\n",
      "   ---------------------------------- ----- 26/30 [openai]\n",
      "   ---------------------------------- ----- 26/30 [openai]\n",
      "   ---------------------------------- ----- 26/30 [openai]\n",
      "   ---------------------------------- ----- 26/30 [openai]\n",
      "   ------------------------------------ --- 27/30 [langsmith]\n",
      "   ------------------------------------ --- 27/30 [langsmith]\n",
      "   ------------------------------------ --- 27/30 [langsmith]\n",
      "   ------------------------------------- -- 28/30 [langchain-core]\n",
      "   ------------------------------------- -- 28/30 [langchain-core]\n",
      "   ------------------------------------- -- 28/30 [langchain-core]\n",
      "   ------------------------------------- -- 28/30 [langchain-core]\n",
      "   ------------------------------------- -- 28/30 [langchain-core]\n",
      "   ------------------------------------- -- 28/30 [langchain-core]\n",
      "   ------------------------------------- -- 28/30 [langchain-core]\n",
      "   ------------------------------------- -- 28/30 [langchain-core]\n",
      "   ------------------------------------- -- 28/30 [langchain-core]\n",
      "   ------------------------------------- -- 28/30 [langchain-core]\n",
      "   ---------------------------------------- 30/30 [langchain-openai]\n",
      "\n",
      "Successfully installed PyYAML-6.0.2 annotated-types-0.7.0 anyio-4.9.0 certifi-2025.4.26 charset-normalizer-3.4.2 distro-1.9.0 h11-0.16.0 httpcore-1.0.9 httpx-0.28.1 idna-3.10 jiter-0.10.0 jsonpatch-1.33 jsonpointer-3.0.0 langchain-core-0.3.63 langchain-openai-0.3.19 langsmith-0.3.44 openai-1.84.0 orjson-3.10.18 pydantic-2.11.5 pydantic-core-2.33.2 regex-2024.11.6 requests-2.32.3 requests-toolbelt-1.0.0 sniffio-1.3.1 tenacity-9.1.2 tiktoken-0.9.0 tqdm-4.67.1 typing-inspection-0.4.1 urllib3-2.4.0 zstandard-0.23.0\n",
      "Note: you may need to restart the kernel to use updated packages.\n"
     ]
    },
    {
     "name": "stderr",
     "output_type": "stream",
     "text": [
      "  WARNING: The script tqdm.exe is installed in 'c:\\Python311\\Scripts' which is not on PATH.\n",
      "  Consider adding this directory to PATH or, if you prefer to suppress this warning, use --no-warn-script-location.\n",
      "  WARNING: The script distro.exe is installed in 'c:\\Python311\\Scripts' which is not on PATH.\n",
      "  Consider adding this directory to PATH or, if you prefer to suppress this warning, use --no-warn-script-location.\n",
      "  WARNING: The script normalizer.exe is installed in 'c:\\Python311\\Scripts' which is not on PATH.\n",
      "  Consider adding this directory to PATH or, if you prefer to suppress this warning, use --no-warn-script-location.\n",
      "  WARNING: The script httpx.exe is installed in 'c:\\Python311\\Scripts' which is not on PATH.\n",
      "  Consider adding this directory to PATH or, if you prefer to suppress this warning, use --no-warn-script-location.\n",
      "  WARNING: The script openai.exe is installed in 'c:\\Python311\\Scripts' which is not on PATH.\n",
      "  Consider adding this directory to PATH or, if you prefer to suppress this warning, use --no-warn-script-location.\n"
     ]
    }
   ],
   "source": [
    "pip install langchain-openai"
   ]
  },
  {
   "cell_type": "code",
   "execution_count": 21,
   "id": "9439eab2",
   "metadata": {},
   "outputs": [
    {
     "name": "stdout",
     "output_type": "stream",
     "text": [
      "Collecting python-dotenv\n",
      "  Downloading python_dotenv-1.1.0-py3-none-any.whl.metadata (24 kB)\n",
      "Downloading python_dotenv-1.1.0-py3-none-any.whl (20 kB)\n",
      "Installing collected packages: python-dotenv\n",
      "Successfully installed python-dotenv-1.1.0\n",
      "Note: you may need to restart the kernel to use updated packages.\n"
     ]
    },
    {
     "name": "stderr",
     "output_type": "stream",
     "text": [
      "  WARNING: The script dotenv.exe is installed in 'c:\\Python311\\Scripts' which is not on PATH.\n",
      "  Consider adding this directory to PATH or, if you prefer to suppress this warning, use --no-warn-script-location.\n"
     ]
    }
   ],
   "source": [
    "pip install python-dotenv"
   ]
  },
  {
   "cell_type": "code",
   "execution_count": 34,
   "id": "3aab6039",
   "metadata": {},
   "outputs": [
    {
     "data": {
      "text/plain": [
       "True"
      ]
     },
     "execution_count": 34,
     "metadata": {},
     "output_type": "execute_result"
    }
   ],
   "source": [
    "from dotenv import load_dotenv\n",
    "load_dotenv()"
   ]
  },
  {
   "cell_type": "code",
   "execution_count": 35,
   "id": "866da060",
   "metadata": {},
   "outputs": [
    {
     "name": "stdout",
     "output_type": "stream",
     "text": [
      "None\n",
      "c:\\code\\LangChainWorkspace\n"
     ]
    }
   ],
   "source": [
    "import os\n",
    "print(os.getenv(\"OPENAI_API_KEY\"))\n",
    "print(os.getcwd())"
   ]
  },
  {
   "cell_type": "code",
   "execution_count": null,
   "id": "1a98f75a",
   "metadata": {},
   "outputs": [
    {
     "data": {
      "text/plain": [
       "AIMessage(content='Today, I should eat pizza!', additional_kwargs={'refusal': None}, response_metadata={'token_usage': {'completion_tokens': 7, 'prompt_tokens': 31, 'total_tokens': 38, 'completion_tokens_details': {'accepted_prediction_tokens': 0, 'audio_tokens': 0, 'reasoning_tokens': 0, 'rejected_prediction_tokens': 0}, 'prompt_tokens_details': {'audio_tokens': 0, 'cached_tokens': 0}}, 'model_name': 'gpt-4o-mini-2024-07-18', 'system_fingerprint': 'fp_62a23a81ef', 'id': 'chatcmpl-Bed4HI2xwyUozw6YMFgymLY6qoZ3a', 'service_tier': 'default', 'finish_reason': 'stop', 'logprobs': None}, id='run--c4cf8a54-1b9d-423b-a769-fc27a24a5176-0', usage_metadata={'input_tokens': 31, 'output_tokens': 7, 'total_tokens': 38, 'input_token_details': {'audio': 0, 'cache_read': 0}, 'output_token_details': {'audio': 0, 'reasoning': 0}})"
      ]
     },
     "execution_count": 38,
     "metadata": {},
     "output_type": "execute_result"
    }
   ],
   "source": [
    "# pip isntall langchain-openai ==0.3.7\n",
    "from langchain_openai import ChatOpenAI\n",
    "llm = ChatOpenAI(model=\"gpt-4o-mini\",\n",
    "                 api_key=\"api-key\")\n",
    "messages = [\n",
    "    (\"system\", \"사용자가 입력한 문장을 영어로 번역해\"),\n",
    "    (\"human\", \"내일은 피자를 먹어야지!\")\n",
    "]\n",
    "\n",
    "result = llm.invoke(messages)\n",
    "result"
   ]
  },
  {
   "cell_type": "code",
   "execution_count": 20,
   "id": "bd579556",
   "metadata": {},
   "outputs": [
    {
     "data": {
      "text/plain": [
       "'I should eat pizza today!'"
      ]
     },
     "execution_count": 20,
     "metadata": {},
     "output_type": "execute_result"
    }
   ],
   "source": [
    "result.content"
   ]
  },
  {
   "cell_type": "code",
   "execution_count": 41,
   "id": "fb70d503",
   "metadata": {},
   "outputs": [
    {
     "data": {
      "text/plain": [
       "'I will have pizza tomorrow!'"
      ]
     },
     "execution_count": 41,
     "metadata": {},
     "output_type": "execute_result"
    }
   ],
   "source": [
    "#pip install LangChain==0.3.19\n",
    "from langchain_core.messages import HumanMessage, SystemMessage, AIMessage\n",
    "messages = [\n",
    "    SystemMessage(content=\"사용자가 입력한 문장을 영어로 번역해\"),\n",
    "    HumanMessage(content=\"내일은 피자를 먹어야지!\")\n",
    "]       \n",
    "\n",
    "result = llm.invoke(messages)\n",
    "result.content"
   ]
  },
  {
   "cell_type": "code",
   "execution_count": 42,
   "id": "1d7c4537",
   "metadata": {},
   "outputs": [
    {
     "data": {
      "text/plain": [
       "'I will have pizza tomorrow!'"
      ]
     },
     "execution_count": 42,
     "metadata": {},
     "output_type": "execute_result"
    }
   ],
   "source": [
    "from langchain_core.output_parsers import StrOutputParser\n",
    "parser = StrOutputParser()\n",
    "parser.invoke(result)"
   ]
  },
  {
   "cell_type": "code",
   "execution_count": 43,
   "id": "eef8391c",
   "metadata": {},
   "outputs": [
    {
     "data": {
      "text/plain": [
       "'I should eat pizza tomorrow!'"
      ]
     },
     "execution_count": 43,
     "metadata": {},
     "output_type": "execute_result"
    }
   ],
   "source": [
    "chain = llm | parser\n",
    "chain.invoke(messages)"
   ]
  }
 ],
 "metadata": {
  "kernelspec": {
   "display_name": "Python 3",
   "language": "python",
   "name": "python3"
  },
  "language_info": {
   "codemirror_mode": {
    "name": "ipython",
    "version": 3
   },
   "file_extension": ".py",
   "mimetype": "text/x-python",
   "name": "python",
   "nbconvert_exporter": "python",
   "pygments_lexer": "ipython3",
   "version": "3.11.9"
  }
 },
 "nbformat": 4,
 "nbformat_minor": 5
}
