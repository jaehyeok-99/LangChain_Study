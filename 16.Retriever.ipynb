{
 "cells": [
  {
   "cell_type": "code",
   "execution_count": 1,
   "id": "8c066b67",
   "metadata": {},
   "outputs": [
    {
     "name": "stderr",
     "output_type": "stream",
     "text": [
      "c:\\Python311\\Lib\\site-packages\\tqdm\\auto.py:21: TqdmWarning: IProgress not found. Please update jupyter and ipywidgets. See https://ipywidgets.readthedocs.io/en/stable/user_install.html\n",
      "  from .autonotebook import tqdm as notebook_tqdm\n"
     ]
    }
   ],
   "source": [
    "from langchain_huggingface import  HuggingFaceEmbeddings\n",
    "model_name = \"BAAI/bge-m3\"\n",
    "hf_embeddings = HuggingFaceEmbeddings(model_name= model_name)"
   ]
  },
  {
   "cell_type": "code",
   "execution_count": 4,
   "id": "52eeaf74",
   "metadata": {},
   "outputs": [],
   "source": [
    "from langchain_chroma import Chroma\n",
    "db = Chroma(persist_directory=\"./news_chroma_db\", embedding_function=hf_embeddings)"
   ]
  },
  {
   "cell_type": "code",
   "execution_count": 6,
   "id": "87b2d9ef",
   "metadata": {},
   "outputs": [
    {
     "data": {
      "text/plain": [
       "[Document(id='1a57afc7-02c6-4fce-87ce-e33ba9308b5f', metadata={'source': './docs/news.txt'}, page_content='경제 : 세계적인 인플레이션 압박으로 각국 중앙은행들이 금리 인상에 나섰습니다. 특히 미국 연방준비제도는 예상보다 더 강력한 금리 인상을 단행하며 시장에 충격을 주었습니다. 이로 인해 주식과 채권 시장에서 대규모 매도세가 발생했습니다.'),\n",
       " Document(id='72bd4bfb-06ce-4c11-a4fe-03d02eab1449', metadata={'source': './docs/news.txt'}, page_content='경제 : 세계적인 인플레이션 압박으로 각국 중앙은행들이 금리 인상에 나섰습니다. 특히 미국 연방준비제도는 예상보다 더 강력한 금리 인상을 단행하며 시장에 충격을 주었습니다. 이로 인해 주식과 채권 시장에서 대규모 매도세가 발생했습니다.')]"
      ]
     },
     "execution_count": 6,
     "metadata": {},
     "output_type": "execute_result"
    }
   ],
   "source": [
    "retriever = db.as_retriever()\n",
    "\n",
    "result = retriever.invoke(\"각국 중앙은행들의 금리 인상 이유는?\", k=2)\n",
    "result"
   ]
  },
  {
   "cell_type": "code",
   "execution_count": 8,
   "id": "d722b1d9",
   "metadata": {},
   "outputs": [
    {
     "data": {
      "text/plain": [
       "[Document(id='2af1c49f-0bff-45a9-9713-729b1368616e', metadata={'source': './docs/news.txt'}, page_content='환경 : 지구 온난화로 인한 극단적인 기후 변화가 전 세계적으로 심각한 피해를 초래하고 있습니다. 북극 해빙이 급격히 녹고 있으며, 이로 인해 해수면 상승이 가속화되고 있습니다. 환경 단체들은 즉각적인 탄소 배출 감축이 필요하다고 경고하고 있습니다.'),\n",
       " Document(id='24bdf7bf-9586-459b-82f8-9ab8e5d121d6', metadata={'source': './docs/news.txt'}, page_content='환경 : 지구 온난화로 인한 극단적인 기후 변화가 전 세계적으로 심각한 피해를 초래하고 있습니다. 북극 해빙이 급격히 녹고 있으며, 이로 인해 해수면 상승이 가속화되고 있습니다. 환경 단체들은 즉각적인 탄소 배출 감축이 필요하다고 경고하고 있습니다.')]"
      ]
     },
     "execution_count": 8,
     "metadata": {},
     "output_type": "execute_result"
    }
   ],
   "source": [
    "retriever = db.as_retriever(search_kwargs={\"k\":2})\n",
    "\n",
    "result = retriever.invoke(\"해수면이 높아지는 이유는?\")\n",
    "result"
   ]
  },
  {
   "cell_type": "code",
   "execution_count": 10,
   "id": "c9b4021a",
   "metadata": {},
   "outputs": [
    {
     "data": {
      "text/plain": [
       "[(Document(id='2af1c49f-0bff-45a9-9713-729b1368616e', metadata={'source': './docs/news.txt'}, page_content='환경 : 지구 온난화로 인한 극단적인 기후 변화가 전 세계적으로 심각한 피해를 초래하고 있습니다. 북극 해빙이 급격히 녹고 있으며, 이로 인해 해수면 상승이 가속화되고 있습니다. 환경 단체들은 즉각적인 탄소 배출 감축이 필요하다고 경고하고 있습니다.'),\n",
       "  0.447099367673789),\n",
       " (Document(id='24bdf7bf-9586-459b-82f8-9ab8e5d121d6', metadata={'source': './docs/news.txt'}, page_content='환경 : 지구 온난화로 인한 극단적인 기후 변화가 전 세계적으로 심각한 피해를 초래하고 있습니다. 북극 해빙이 급격히 녹고 있으며, 이로 인해 해수면 상승이 가속화되고 있습니다. 환경 단체들은 즉각적인 탄소 배출 감축이 필요하다고 경고하고 있습니다.'),\n",
       "  0.447099367673789)]"
      ]
     },
     "execution_count": 10,
     "metadata": {},
     "output_type": "execute_result"
    }
   ],
   "source": [
    "result = db.similarity_search_with_relevance_scores(\"해수면이 높아지는 이유는?\", k=2)\n",
    "result"
   ]
  },
  {
   "cell_type": "code",
   "execution_count": 12,
   "id": "fb5c2d2a",
   "metadata": {},
   "outputs": [
    {
     "data": {
      "text/plain": [
       "[Document(id='2af1c49f-0bff-45a9-9713-729b1368616e', metadata={'source': './docs/news.txt'}, page_content='환경 : 지구 온난화로 인한 극단적인 기후 변화가 전 세계적으로 심각한 피해를 초래하고 있습니다. 북극 해빙이 급격히 녹고 있으며, 이로 인해 해수면 상승이 가속화되고 있습니다. 환경 단체들은 즉각적인 탄소 배출 감축이 필요하다고 경고하고 있습니다.'),\n",
       " Document(id='24bdf7bf-9586-459b-82f8-9ab8e5d121d6', metadata={'source': './docs/news.txt'}, page_content='환경 : 지구 온난화로 인한 극단적인 기후 변화가 전 세계적으로 심각한 피해를 초래하고 있습니다. 북극 해빙이 급격히 녹고 있으며, 이로 인해 해수면 상승이 가속화되고 있습니다. 환경 단체들은 즉각적인 탄소 배출 감축이 필요하다고 경고하고 있습니다.')]"
      ]
     },
     "execution_count": 12,
     "metadata": {},
     "output_type": "execute_result"
    }
   ],
   "source": [
    "retriever =db.as_retriever(\n",
    "    search_type=\"similarity_score_threshold\",\n",
    "    search_kwargs={\"score_threshold\":0.3}\n",
    ")\n",
    "\n",
    "result = retriever.invoke(\"해수면이; 높아지는 이유는?\")\n",
    "result "
   ]
  },
  {
   "cell_type": "code",
   "execution_count": 14,
   "id": "ccf0e41d",
   "metadata": {},
   "outputs": [
    {
     "name": "stderr",
     "output_type": "stream",
     "text": [
      "Created a chunk of size 52, which is longer than the specified 0\n",
      "Created a chunk of size 46, which is longer than the specified 0\n",
      "Created a chunk of size 43, which is longer than the specified 0\n",
      "Created a chunk of size 47, which is longer than the specified 0\n",
      "Created a chunk of size 41, which is longer than the specified 0\n",
      "Created a chunk of size 41, which is longer than the specified 0\n",
      "Created a chunk of size 47, which is longer than the specified 0\n",
      "Created a chunk of size 38, which is longer than the specified 0\n",
      "Created a chunk of size 40, which is longer than the specified 0\n",
      "Created a chunk of size 41, which is longer than the specified 0\n",
      "Created a chunk of size 38, which is longer than the specified 0\n",
      "Created a chunk of size 46, which is longer than the specified 0\n",
      "Created a chunk of size 36, which is longer than the specified 0\n",
      "Created a chunk of size 35, which is longer than the specified 0\n",
      "Created a chunk of size 45, which is longer than the specified 0\n",
      "Created a chunk of size 39, which is longer than the specified 0\n",
      "Created a chunk of size 47, which is longer than the specified 0\n",
      "Created a chunk of size 47, which is longer than the specified 0\n",
      "Created a chunk of size 43, which is longer than the specified 0\n"
     ]
    },
    {
     "data": {
      "text/plain": [
       "20"
      ]
     },
     "execution_count": 14,
     "metadata": {},
     "output_type": "execute_result"
    }
   ],
   "source": [
    "from langchain_community.document_loaders import TextLoader\n",
    "from langchain_text_splitters import CharacterTextSplitter\n",
    "\n",
    "text_splitter = CharacterTextSplitter(\n",
    "    separator = \"\\n\",\n",
    "    chunk_size = 0,\n",
    "    chunk_overlap = 0\n",
    ")\n",
    "\n",
    "loader = TextLoader(\"./docs/travel.txt\", encoding=\"utf-8\")\n",
    "documents = loader.load_and_split(text_splitter=text_splitter)\n",
    "len(documents)"
   ]
  },
  {
   "cell_type": "code",
   "execution_count": 15,
   "id": "586fb035",
   "metadata": {},
   "outputs": [],
   "source": [
    "db = Chroma.from_documents(documents, hf_embeddings)\n",
    "\n",
    "retriever = db.as_retriever(\n",
    "    search_type=\"similarity_score_threshold\", \n",
    "    search_kwargs={\"score_threshold\": 0.3}\n",
    ")"
   ]
  },
  {
   "cell_type": "code",
   "execution_count": 16,
   "id": "ad3419ab",
   "metadata": {},
   "outputs": [
    {
     "data": {
      "text/plain": [
       "[Document(id='e1cb3968-e333-429a-90ef-b90b5c991fd1', metadata={'source': './docs/travel.txt'}, page_content='여행 예산을 절약하는 10가지 방법. 적은 비용으로 알차게 여행하는 법.'),\n",
       " Document(id='f940c7c6-4812-4eea-999c-2a9aab11e90c', metadata={'source': './docs/travel.txt'}, page_content='효율적인 여행 계획 세우기. 예산을 절약하면서도 만족스러운 여행을 하는 방법.'),\n",
       " Document(id='2140511f-e87e-4e13-9ed6-c7ab1429f821', metadata={'source': './docs/travel.txt'}, page_content='여행 일정 짜는 방법. 관광 명소를 효과적으로 방문하기 위한 스케줄링 팁.'),\n",
       " Document(id='82dd7299-aa37-4582-9ee9-7fe8f39f993c', metadata={'source': './docs/travel.txt'}, page_content='여행 경로를 설계하는 법. 최적의 동선을 계획하여 피로도를 줄이는 방법을 소개합니다.')]"
      ]
     },
     "execution_count": 16,
     "metadata": {},
     "output_type": "execute_result"
    }
   ],
   "source": [
    "result = retriever.invoke(\"이색적인 여행 방법과 예산 절약 팁\")\n",
    "result "
   ]
  },
  {
   "cell_type": "code",
   "execution_count": 18,
   "id": "d8a42606",
   "metadata": {},
   "outputs": [
    {
     "data": {
      "text/plain": [
       "[Document(id='e1cb3968-e333-429a-90ef-b90b5c991fd1', metadata={'source': './docs/travel.txt'}, page_content='여행 예산을 절약하는 10가지 방법. 적은 비용으로 알차게 여행하는 법.'),\n",
       " Document(id='82308449-17f3-43fa-849b-3a5f1fe4c732', metadata={'source': './docs/travel.txt'}, page_content='여행 중 음식 고르는 법. 지역 특산물을 즐기면서도 위생을 고려하는 요령.'),\n",
       " Document(id='eb850460-ee3a-42d7-bb0c-c3ed9ed2699c', metadata={'source': './docs/travel.txt'}, page_content='이색적인 숙소에서 머물기. 트리하우스, 동굴 호텔, 빙하 호텔 등 독특한 숙소 체험.'),\n",
       " Document(id='937cbc78-2443-42e2-8406-be9a3d9fe11e', metadata={'source': './docs/travel.txt'}, page_content='배낭여행자를 위한 추천 도시. 예산이 적어도 충분히 즐길 수 있는 세계 곳곳의 명소.'),\n",
       " Document(id='71a97c54-7e17-48b0-b773-3dfa3aa4d782', metadata={'source': './docs/travel.txt'}, page_content='배낭여행과 럭셔리 여행의 차이. 각각의 장점과 단점을 비교해 봅니다.')]"
      ]
     },
     "execution_count": 18,
     "metadata": {},
     "output_type": "execute_result"
    }
   ],
   "source": [
    "# MMR : Maxiaml Marginal Relevance\n",
    "retriever = db.as_retriever(\n",
    "    search_type=\"mmr\",\n",
    "    search_kwargs={\"k\":5, \"fetch_k\":20, \"lambda_mult\":0.5}\n",
    "\n",
    ")\n",
    "\n",
    "result = retriever.invoke(\"이색적인 여행 방법과 예산 절약 팁\")\n",
    "result"
   ]
  }
 ],
 "metadata": {
  "kernelspec": {
   "display_name": "Python 3",
   "language": "python",
   "name": "python3"
  },
  "language_info": {
   "codemirror_mode": {
    "name": "ipython",
    "version": 3
   },
   "file_extension": ".py",
   "mimetype": "text/x-python",
   "name": "python",
   "nbconvert_exporter": "python",
   "pygments_lexer": "ipython3",
   "version": "3.11.9"
  }
 },
 "nbformat": 4,
 "nbformat_minor": 5
}
