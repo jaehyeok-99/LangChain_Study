{
 "cells": [
  {
   "cell_type": "code",
   "execution_count": 4,
   "id": "80114c64",
   "metadata": {},
   "outputs": [
    {
     "name": "stdout",
     "output_type": "stream",
     "text": [
      "Requirement already satisfied: langchain_community==0.3.18 in c:\\python311\\lib\\site-packages (0.3.18)\n",
      "Requirement already satisfied: langchain-core<1.0.0,>=0.3.37 in c:\\python311\\lib\\site-packages (from langchain_community==0.3.18) (0.3.63)\n",
      "Requirement already satisfied: langchain<1.0.0,>=0.3.19 in c:\\python311\\lib\\site-packages (from langchain_community==0.3.18) (0.3.19)\n",
      "Requirement already satisfied: SQLAlchemy<3,>=1.4 in c:\\python311\\lib\\site-packages (from langchain_community==0.3.18) (2.0.41)\n",
      "Requirement already satisfied: requests<3,>=2 in c:\\python311\\lib\\site-packages (from langchain_community==0.3.18) (2.32.3)\n",
      "Requirement already satisfied: PyYAML>=5.3 in c:\\python311\\lib\\site-packages (from langchain_community==0.3.18) (6.0.2)\n",
      "Requirement already satisfied: aiohttp<4.0.0,>=3.8.3 in c:\\python311\\lib\\site-packages (from langchain_community==0.3.18) (3.12.7)\n",
      "Requirement already satisfied: tenacity!=8.4.0,<10,>=8.1.0 in c:\\python311\\lib\\site-packages (from langchain_community==0.3.18) (9.1.2)\n",
      "Requirement already satisfied: dataclasses-json<0.7,>=0.5.7 in c:\\python311\\lib\\site-packages (from langchain_community==0.3.18) (0.6.7)\n",
      "Requirement already satisfied: pydantic-settings<3.0.0,>=2.4.0 in c:\\python311\\lib\\site-packages (from langchain_community==0.3.18) (2.9.1)\n",
      "Requirement already satisfied: langsmith<0.4,>=0.1.125 in c:\\python311\\lib\\site-packages (from langchain_community==0.3.18) (0.3.44)\n",
      "Requirement already satisfied: httpx-sse<1.0.0,>=0.4.0 in c:\\python311\\lib\\site-packages (from langchain_community==0.3.18) (0.4.0)\n",
      "Requirement already satisfied: numpy<2,>=1.26.4 in c:\\python311\\lib\\site-packages (from langchain_community==0.3.18) (1.26.4)\n",
      "Requirement already satisfied: aiohappyeyeballs>=2.5.0 in c:\\python311\\lib\\site-packages (from aiohttp<4.0.0,>=3.8.3->langchain_community==0.3.18) (2.6.1)\n",
      "Requirement already satisfied: aiosignal>=1.1.2 in c:\\python311\\lib\\site-packages (from aiohttp<4.0.0,>=3.8.3->langchain_community==0.3.18) (1.3.2)\n",
      "Requirement already satisfied: attrs>=17.3.0 in c:\\python311\\lib\\site-packages (from aiohttp<4.0.0,>=3.8.3->langchain_community==0.3.18) (25.3.0)\n",
      "Requirement already satisfied: frozenlist>=1.1.1 in c:\\python311\\lib\\site-packages (from aiohttp<4.0.0,>=3.8.3->langchain_community==0.3.18) (1.6.2)\n",
      "Requirement already satisfied: multidict<7.0,>=4.5 in c:\\python311\\lib\\site-packages (from aiohttp<4.0.0,>=3.8.3->langchain_community==0.3.18) (6.4.4)\n",
      "Requirement already satisfied: propcache>=0.2.0 in c:\\python311\\lib\\site-packages (from aiohttp<4.0.0,>=3.8.3->langchain_community==0.3.18) (0.3.1)\n",
      "Requirement already satisfied: yarl<2.0,>=1.17.0 in c:\\python311\\lib\\site-packages (from aiohttp<4.0.0,>=3.8.3->langchain_community==0.3.18) (1.20.0)\n",
      "Requirement already satisfied: marshmallow<4.0.0,>=3.18.0 in c:\\python311\\lib\\site-packages (from dataclasses-json<0.7,>=0.5.7->langchain_community==0.3.18) (3.26.1)\n",
      "Requirement already satisfied: typing-inspect<1,>=0.4.0 in c:\\python311\\lib\\site-packages (from dataclasses-json<0.7,>=0.5.7->langchain_community==0.3.18) (0.9.0)\n",
      "Requirement already satisfied: langchain-text-splitters<1.0.0,>=0.3.6 in c:\\python311\\lib\\site-packages (from langchain<1.0.0,>=0.3.19->langchain_community==0.3.18) (0.3.8)\n",
      "Requirement already satisfied: pydantic<3.0.0,>=2.7.4 in c:\\python311\\lib\\site-packages (from langchain<1.0.0,>=0.3.19->langchain_community==0.3.18) (2.11.5)\n",
      "Requirement already satisfied: jsonpatch<2.0,>=1.33 in c:\\python311\\lib\\site-packages (from langchain-core<1.0.0,>=0.3.37->langchain_community==0.3.18) (1.33)\n",
      "Requirement already satisfied: packaging<25,>=23.2 in c:\\users\\tason\\appdata\\roaming\\python\\python311\\site-packages (from langchain-core<1.0.0,>=0.3.37->langchain_community==0.3.18) (24.2)\n",
      "Requirement already satisfied: typing-extensions>=4.7 in c:\\users\\tason\\appdata\\roaming\\python\\python311\\site-packages (from langchain-core<1.0.0,>=0.3.37->langchain_community==0.3.18) (4.12.2)\n",
      "Requirement already satisfied: jsonpointer>=1.9 in c:\\python311\\lib\\site-packages (from jsonpatch<2.0,>=1.33->langchain-core<1.0.0,>=0.3.37->langchain_community==0.3.18) (3.0.0)\n",
      "Requirement already satisfied: httpx<1,>=0.23.0 in c:\\python311\\lib\\site-packages (from langsmith<0.4,>=0.1.125->langchain_community==0.3.18) (0.28.1)\n",
      "Requirement already satisfied: orjson<4.0.0,>=3.9.14 in c:\\python311\\lib\\site-packages (from langsmith<0.4,>=0.1.125->langchain_community==0.3.18) (3.10.18)\n",
      "Requirement already satisfied: requests-toolbelt<2.0.0,>=1.0.0 in c:\\python311\\lib\\site-packages (from langsmith<0.4,>=0.1.125->langchain_community==0.3.18) (1.0.0)\n",
      "Requirement already satisfied: zstandard<0.24.0,>=0.23.0 in c:\\python311\\lib\\site-packages (from langsmith<0.4,>=0.1.125->langchain_community==0.3.18) (0.23.0)\n",
      "Requirement already satisfied: anyio in c:\\python311\\lib\\site-packages (from httpx<1,>=0.23.0->langsmith<0.4,>=0.1.125->langchain_community==0.3.18) (4.9.0)\n",
      "Requirement already satisfied: certifi in c:\\python311\\lib\\site-packages (from httpx<1,>=0.23.0->langsmith<0.4,>=0.1.125->langchain_community==0.3.18) (2025.4.26)\n",
      "Requirement already satisfied: httpcore==1.* in c:\\python311\\lib\\site-packages (from httpx<1,>=0.23.0->langsmith<0.4,>=0.1.125->langchain_community==0.3.18) (1.0.9)\n",
      "Requirement already satisfied: idna in c:\\python311\\lib\\site-packages (from httpx<1,>=0.23.0->langsmith<0.4,>=0.1.125->langchain_community==0.3.18) (3.10)\n",
      "Requirement already satisfied: h11>=0.16 in c:\\python311\\lib\\site-packages (from httpcore==1.*->httpx<1,>=0.23.0->langsmith<0.4,>=0.1.125->langchain_community==0.3.18) (0.16.0)\n",
      "Requirement already satisfied: annotated-types>=0.6.0 in c:\\python311\\lib\\site-packages (from pydantic<3.0.0,>=2.7.4->langchain<1.0.0,>=0.3.19->langchain_community==0.3.18) (0.7.0)\n",
      "Requirement already satisfied: pydantic-core==2.33.2 in c:\\python311\\lib\\site-packages (from pydantic<3.0.0,>=2.7.4->langchain<1.0.0,>=0.3.19->langchain_community==0.3.18) (2.33.2)\n",
      "Requirement already satisfied: typing-inspection>=0.4.0 in c:\\python311\\lib\\site-packages (from pydantic<3.0.0,>=2.7.4->langchain<1.0.0,>=0.3.19->langchain_community==0.3.18) (0.4.1)\n",
      "Requirement already satisfied: python-dotenv>=0.21.0 in c:\\python311\\lib\\site-packages (from pydantic-settings<3.0.0,>=2.4.0->langchain_community==0.3.18) (1.1.0)\n",
      "Requirement already satisfied: charset-normalizer<4,>=2 in c:\\python311\\lib\\site-packages (from requests<3,>=2->langchain_community==0.3.18) (3.4.2)\n",
      "Requirement already satisfied: urllib3<3,>=1.21.1 in c:\\python311\\lib\\site-packages (from requests<3,>=2->langchain_community==0.3.18) (2.4.0)\n",
      "Requirement already satisfied: greenlet>=1 in c:\\python311\\lib\\site-packages (from SQLAlchemy<3,>=1.4->langchain_community==0.3.18) (3.2.2)\n",
      "Requirement already satisfied: mypy-extensions>=0.3.0 in c:\\python311\\lib\\site-packages (from typing-inspect<1,>=0.4.0->dataclasses-json<0.7,>=0.5.7->langchain_community==0.3.18) (1.1.0)\n",
      "Requirement already satisfied: sniffio>=1.1 in c:\\python311\\lib\\site-packages (from anyio->httpx<1,>=0.23.0->langsmith<0.4,>=0.1.125->langchain_community==0.3.18) (1.3.1)\n"
     ]
    }
   ],
   "source": [
    "!pip install langchain_community==0.3.18"
   ]
  },
  {
   "cell_type": "code",
   "execution_count": 7,
   "id": "83b62ba1",
   "metadata": {},
   "outputs": [
    {
     "data": {
      "text/plain": [
       "[Document(metadata={'source': './docs/sample1.txt'}, page_content='텍스트 파일 샘플 1입니다.')]"
      ]
     },
     "execution_count": 7,
     "metadata": {},
     "output_type": "execute_result"
    }
   ],
   "source": [
    "from langchain_community.document_loaders import TextLoader\n",
    "\n",
    "loader = TextLoader(\"./docs/sample1.txt\", encoding=\"utf-8\")\n",
    "loader.load()"
   ]
  },
  {
   "cell_type": "code",
   "execution_count": 8,
   "id": "a7c69fc8",
   "metadata": {},
   "outputs": [
    {
     "data": {
      "text/plain": [
       "[Document(metadata={'source': 'docs\\\\sample1.txt'}, page_content='텍스트 파일 샘플 1입니다.'),\n",
       " Document(metadata={'source': 'docs\\\\sample2.txt'}, page_content='텍스트 파일 샘플 2입니다.')]"
      ]
     },
     "execution_count": 8,
     "metadata": {},
     "output_type": "execute_result"
    }
   ],
   "source": [
    "from langchain_community.document_loaders import DirectoryLoader\n",
    "\n",
    "loader = DirectoryLoader(\"./docs/\", glob=\"*txt\", loader_cls=TextLoader, \n",
    "                         loader_kwargs={\"encoding\":\"utf-8\"})\n",
    "loader.load()"
   ]
  },
  {
   "cell_type": "code",
   "execution_count": 9,
   "id": "3746ae43",
   "metadata": {},
   "outputs": [
    {
     "data": {
      "text/plain": [
       "[Document(metadata={'source': './docs/sample.csv', 'row': 0}, page_content='번호: 1\\n과일: 사과\\n가격: 1000'),\n",
       " Document(metadata={'source': './docs/sample.csv', 'row': 1}, page_content='번호: 2\\n과일: 복숭아\\n가격: 2000'),\n",
       " Document(metadata={'source': './docs/sample.csv', 'row': 2}, page_content='번호: 3\\n과일: 바나나\\n가격: 3000'),\n",
       " Document(metadata={'source': './docs/sample.csv', 'row': 3}, page_content='번호: 4\\n과일: 오렌지\\n가격: 4000')]"
      ]
     },
     "execution_count": 9,
     "metadata": {},
     "output_type": "execute_result"
    }
   ],
   "source": [
    "from langchain_community.document_loaders import CSVLoader\n",
    "\n",
    "loader = CSVLoader(\"./docs/sample.csv\", encoding=\"utf-8\")\n",
    "loader.load()"
   ]
  },
  {
   "cell_type": "code",
   "execution_count": 10,
   "id": "b87e3904",
   "metadata": {},
   "outputs": [
    {
     "name": "stdout",
     "output_type": "stream",
     "text": [
      "Collecting pypdf\n",
      "  Downloading pypdf-5.6.0-py3-none-any.whl.metadata (7.2 kB)\n",
      "Downloading pypdf-5.6.0-py3-none-any.whl (304 kB)\n",
      "Installing collected packages: pypdf\n",
      "Successfully installed pypdf-5.6.0\n"
     ]
    }
   ],
   "source": [
    "! pip install pypdf"
   ]
  },
  {
   "cell_type": "code",
   "execution_count": 13,
   "id": "fa31a3a7",
   "metadata": {},
   "outputs": [
    {
     "data": {
      "text/plain": [
       "[Document(metadata={'producer': 'Microsoft® Word 2013', 'creator': 'Microsoft® Word 2013', 'creationdate': '2025-03-23T10:39:49+09:00', 'author': 'NadoCoding', 'moddate': '2025-03-23T10:39:49+09:00', 'source': './docs/sample.pdf', 'total_pages': 5, 'page': 0, 'page_label': '1'}, page_content='샘플 PDF 파일 #1 입니다'),\n",
       " Document(metadata={'producer': 'Microsoft® Word 2013', 'creator': 'Microsoft® Word 2013', 'creationdate': '2025-03-23T10:39:49+09:00', 'author': 'NadoCoding', 'moddate': '2025-03-23T10:39:49+09:00', 'source': './docs/sample.pdf', 'total_pages': 5, 'page': 1, 'page_label': '2'}, page_content='샘플 PDF 파일 #2 입니다'),\n",
       " Document(metadata={'producer': 'Microsoft® Word 2013', 'creator': 'Microsoft® Word 2013', 'creationdate': '2025-03-23T10:39:49+09:00', 'author': 'NadoCoding', 'moddate': '2025-03-23T10:39:49+09:00', 'source': './docs/sample.pdf', 'total_pages': 5, 'page': 2, 'page_label': '3'}, page_content='샘플 PDF 파일 #3 입니다'),\n",
       " Document(metadata={'producer': 'Microsoft® Word 2013', 'creator': 'Microsoft® Word 2013', 'creationdate': '2025-03-23T10:39:49+09:00', 'author': 'NadoCoding', 'moddate': '2025-03-23T10:39:49+09:00', 'source': './docs/sample.pdf', 'total_pages': 5, 'page': 3, 'page_label': '4'}, page_content='샘플 PDF 파일 #4 입니다'),\n",
       " Document(metadata={'producer': 'Microsoft® Word 2013', 'creator': 'Microsoft® Word 2013', 'creationdate': '2025-03-23T10:39:49+09:00', 'author': 'NadoCoding', 'moddate': '2025-03-23T10:39:49+09:00', 'source': './docs/sample.pdf', 'total_pages': 5, 'page': 4, 'page_label': '5'}, page_content='샘플 PDF 파일 #5 입니다')]"
      ]
     },
     "execution_count": 13,
     "metadata": {},
     "output_type": "execute_result"
    }
   ],
   "source": [
    "from langchain_community.document_loaders import PyPDFLoader\n",
    "\n",
    "loader = PyPDFLoader(\"./docs/sample.pdf\")\n",
    "loader.load()"
   ]
  }
 ],
 "metadata": {
  "kernelspec": {
   "display_name": "Python 3",
   "language": "python",
   "name": "python3"
  },
  "language_info": {
   "codemirror_mode": {
    "name": "ipython",
    "version": 3
   },
   "file_extension": ".py",
   "mimetype": "text/x-python",
   "name": "python",
   "nbconvert_exporter": "python",
   "pygments_lexer": "ipython3",
   "version": "3.11.9"
  }
 },
 "nbformat": 4,
 "nbformat_minor": 5
}
