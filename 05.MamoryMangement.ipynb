{
 "cells": [
  {
   "cell_type": "code",
   "execution_count": 1,
   "id": "03b06dd5",
   "metadata": {},
   "outputs": [
    {
     "data": {
      "text/plain": [
       "True"
      ]
     },
     "execution_count": 1,
     "metadata": {},
     "output_type": "execute_result"
    }
   ],
   "source": [
    "from dotenv import load_dotenv\n",
    "load_dotenv()"
   ]
  },
  {
   "cell_type": "code",
   "execution_count": null,
   "id": "e26afb37",
   "metadata": {},
   "outputs": [],
   "source": [
    "from langchain_openai import ChatOpenAI\n",
    "llm = ChatOpenAI(model=\"gpt-4o-mini\")\n",
    "\n",
    "from langchain_core.messages import HumanMessage, AIMessage, SystemMessage, trim_messages # 함수 하나 추가"
   ]
  },
  {
   "cell_type": "code",
   "execution_count": 5,
   "id": "812a0fd3",
   "metadata": {},
   "outputs": [],
   "source": [
    "messages = [\n",
    "    SystemMessage(content=\"System\"), #너는 이런역할을 하는 ai다 라고 알려주는 부분\n",
    "    HumanMessage(content=\"Human1\"), #사용자가 이런 작업을 해줘 요청 하는 부분\n",
    "    AIMessage(content=\"AI1\"), #ai 가 응답한 내용을 적는 부분\n",
    "    HumanMessage(content=\"Human2\"), #사용자가 이런 작업을 해줘 요청 하는 부분\n",
    "    AIMessage(content=\"AI2\"), #ai 가 응답한 내용을 적는 부분\n",
    "    HumanMessage(content=\"Human3\"), #사용자가 이런 작업을 해줘 요청 하는 부분\n",
    "    AIMessage(content=\"AI3\"), #ai 가 응답한 내용을 적는 부분\n",
    "]"
   ]
  },
  {
   "cell_type": "code",
   "execution_count": 6,
   "id": "55007647",
   "metadata": {},
   "outputs": [
    {
     "data": {
      "text/plain": [
       "[SystemMessage(content='System', additional_kwargs={}, response_metadata={}),\n",
       " HumanMessage(content='Human1', additional_kwargs={}, response_metadata={}),\n",
       " AIMessage(content='AI1', additional_kwargs={}, response_metadata={}),\n",
       " HumanMessage(content='Human2', additional_kwargs={}, response_metadata={}),\n",
       " AIMessage(content='AI2', additional_kwargs={}, response_metadata={}),\n",
       " HumanMessage(content='Human3', additional_kwargs={}, response_metadata={}),\n",
       " AIMessage(content='AI3', additional_kwargs={}, response_metadata={})]"
      ]
     },
     "execution_count": 6,
     "metadata": {},
     "output_type": "execute_result"
    }
   ],
   "source": [
    "# 대화 많이 남기기\n",
    "trimmer = trim_messages(\n",
    "    max_tokens=1000,  # 최대 토큰 수\n",
    "    token_counter=llm\n",
    "   )\n",
    "trimmer.invoke(messages)"
   ]
  },
  {
   "cell_type": "code",
   "execution_count": 7,
   "id": "8bd46a7b",
   "metadata": {},
   "outputs": [
    {
     "data": {
      "text/plain": [
       "[HumanMessage(content='Human2', additional_kwargs={}, response_metadata={}),\n",
       " AIMessage(content='AI2', additional_kwargs={}, response_metadata={}),\n",
       " HumanMessage(content='Human3', additional_kwargs={}, response_metadata={}),\n",
       " AIMessage(content='AI3', additional_kwargs={}, response_metadata={})]"
      ]
     },
     "execution_count": 7,
     "metadata": {},
     "output_type": "execute_result"
    }
   ],
   "source": [
    "# 대화 적게 남기기\n",
    "trimmer = trim_messages(\n",
    "    max_tokens=30,  # 최대 토큰 수\n",
    "    token_counter=llm\n",
    "   )\n",
    "trimmer.invoke(messages)"
   ]
  },
  {
   "cell_type": "code",
   "execution_count": 9,
   "id": "02218dde",
   "metadata": {},
   "outputs": [
    {
     "data": {
      "text/plain": [
       "[SystemMessage(content='System', additional_kwargs={}, response_metadata={}),\n",
       " HumanMessage(content='Human1', additional_kwargs={}, response_metadata={}),\n",
       " AIMessage(content='AI1', additional_kwargs={}, response_metadata={}),\n",
       " HumanMessage(content='Human2', additional_kwargs={}, response_metadata={})]"
      ]
     },
     "execution_count": 9,
     "metadata": {},
     "output_type": "execute_result"
    }
   ],
   "source": [
    "# 과거 대화 남기고 최근 대화 지우기 \n",
    "trimmer = trim_messages(\n",
    "    max_tokens=30,  # 최대 토큰 수\n",
    "    token_counter=llm,\n",
    "    strategy = \"first\"\n",
    "   )\n",
    "trimmer.invoke(messages)"
   ]
  },
  {
   "cell_type": "code",
   "execution_count": 10,
   "id": "40a34e66",
   "metadata": {},
   "outputs": [
    {
     "data": {
      "text/plain": [
       "[HumanMessage(content='Human2', additional_kwargs={}, response_metadata={}),\n",
       " AIMessage(content='AI2', additional_kwargs={}, response_metadata={}),\n",
       " HumanMessage(content='Human3', additional_kwargs={}, response_metadata={}),\n",
       " AIMessage(content='AI3', additional_kwargs={}, response_metadata={})]"
      ]
     },
     "execution_count": 10,
     "metadata": {},
     "output_type": "execute_result"
    }
   ],
   "source": [
    "# 최근 대화 남기고 과거 대화 지우기 \n",
    "trimmer = trim_messages(\n",
    "    max_tokens=30,  # 최대 토큰 수\n",
    "    token_counter=llm,\n",
    "    strategy = \"last\"\n",
    "   )\n",
    "trimmer.invoke(messages)"
   ]
  },
  {
   "cell_type": "code",
   "execution_count": null,
   "id": "6c9264f4",
   "metadata": {},
   "outputs": [
    {
     "data": {
      "text/plain": [
       "[SystemMessage(content='System', additional_kwargs={}, response_metadata={}),\n",
       " AIMessage(content='AI2', additional_kwargs={}, response_metadata={}),\n",
       " HumanMessage(content='Human3', additional_kwargs={}, response_metadata={}),\n",
       " AIMessage(content='AI3', additional_kwargs={}, response_metadata={})]"
      ]
     },
     "execution_count": 12,
     "metadata": {},
     "output_type": "execute_result"
    }
   ],
   "source": [
    "# 최근 대화 남기고 과거 대화 지우는데 시스템 메세지 남기기\n",
    "trimmer = trim_messages(\n",
    "    max_tokens=30,  # 최대 토큰 수\n",
    "    token_counter=llm,\n",
    "    strategy = \"last\",\n",
    "    include_system=True  # 반드시 시스템 메시지는 남긴다.\n",
    "   )\n",
    "trimmer.invoke(messages)"
   ]
  },
  {
   "cell_type": "code",
   "execution_count": 13,
   "id": "1c798319",
   "metadata": {},
   "outputs": [
    {
     "data": {
      "text/plain": [
       "[SystemMessage(content='System', additional_kwargs={}, response_metadata={}),\n",
       " HumanMessage(content='Human3', additional_kwargs={}, response_metadata={}),\n",
       " AIMessage(content='AI3', additional_kwargs={}, response_metadata={})]"
      ]
     },
     "execution_count": 13,
     "metadata": {},
     "output_type": "execute_result"
    }
   ],
   "source": [
    "# 최근 대화 남기고 과거 대화 지우는데 시스템 메세지 남기고 HumanMessage 부터 시작하기\n",
    "trimmer = trim_messages(\n",
    "    max_tokens=30,  # 최대 토큰 수\n",
    "    token_counter=llm,\n",
    "    strategy = \"last\",\n",
    "    include_system=True,  # 반드시 시스템 메시지는 남긴다.\n",
    "    start_on = \"human\"\n",
    "   )\n",
    "trimmer.invoke(messages)"
   ]
  },
  {
   "cell_type": "code",
   "execution_count": 14,
   "id": "4f579efa",
   "metadata": {},
   "outputs": [],
   "source": [
    "messages = [\n",
    "    SystemMessage(content=\"사용자의 질문에 2문장 이내로 짧게 대답해\"), \n",
    "    HumanMessage(content=\"오늘은 피자를 먹어야지\"), \n",
    "    AIMessage(content=\"정말 좋은 생각이야. 음료는 무엇으로 할거야?\"), \n",
    "    HumanMessage(content=\"내일은 수영을 가야지!\"),\n",
    "    AIMessage(content=\"수영이라니, 정말 좋은 운동이야. 수영장은 어디로 다녀?\"),\n",
    "    HumanMessage(content=\"주말에는 영화를 보러 갈 거야!\"), \n",
    "    AIMessage(content=\"주말이 벌써부터 기다려지겠는걸? 보려구 생각해둔 영화가 있어?\"), \n",
    "]"
   ]
  },
  {
   "cell_type": "code",
   "execution_count": 15,
   "id": "be454e87",
   "metadata": {},
   "outputs": [],
   "source": [
    "trimmer = trim_messages(\n",
    "    max_tokens=120,  # 최대 토큰 수\n",
    "    token_counter=llm,\n",
    "    strategy=\"last\", # 최근대회만 남기기\n",
    "    include_system=True,\n",
    "    start_on=\"human\"\n",
    ")"
   ]
  },
  {
   "cell_type": "code",
   "execution_count": 16,
   "id": "c15ef01c",
   "metadata": {},
   "outputs": [
    {
     "data": {
      "text/plain": [
       "[SystemMessage(content='사용자의 질문에 2문장 이내로 짧게 대답해', additional_kwargs={}, response_metadata={}),\n",
       " HumanMessage(content='내일은 수영을 가야지!', additional_kwargs={}, response_metadata={}),\n",
       " AIMessage(content='수영이라니, 정말 좋은 운동이야. 수영장은 어디로 다녀?', additional_kwargs={}, response_metadata={}),\n",
       " HumanMessage(content='주말에는 영화를 보러 갈 거야!', additional_kwargs={}, response_metadata={}),\n",
       " AIMessage(content='주말이 벌써부터 기다려지겠는걸? 보려구 생각해둔 영화가 있어?', additional_kwargs={}, response_metadata={})]"
      ]
     },
     "execution_count": 16,
     "metadata": {},
     "output_type": "execute_result"
    }
   ],
   "source": [
    "trimmer.invoke(messages)"
   ]
  },
  {
   "cell_type": "code",
   "execution_count": 17,
   "id": "73a0b39d",
   "metadata": {},
   "outputs": [],
   "source": [
    "from langchain_core.output_parsers import StrOutputParser\n",
    "parser = StrOutputParser()\n",
    "\n",
    "chain = trimmer | llm | parser"
   ]
  },
  {
   "cell_type": "code",
   "execution_count": 21,
   "id": "8cd5d4f4",
   "metadata": {},
   "outputs": [
    {
     "name": "stdout",
     "output_type": "stream",
     "text": [
      "\u001b[32;1m\u001b[1;3m[chain/start]\u001b[0m \u001b[1m[chain:RunnableSequence] Entering Chain run with input:\n",
      "\u001b[0m[inputs]\n",
      "\u001b[32;1m\u001b[1;3m[chain/start]\u001b[0m \u001b[1m[chain:RunnableSequence > chain:trim_messages] Entering Chain run with input:\n",
      "\u001b[0m[inputs]\n",
      "\u001b[36;1m\u001b[1;3m[chain/end]\u001b[0m \u001b[1m[chain:RunnableSequence > chain:trim_messages] [1ms] Exiting Chain run with output:\n",
      "\u001b[0m[outputs]\n",
      "\u001b[32;1m\u001b[1;3m[llm/start]\u001b[0m \u001b[1m[chain:RunnableSequence > llm:ChatOpenAI] Entering LLM run with input:\n",
      "\u001b[0m{\n",
      "  \"prompts\": [\n",
      "    \"System: 사용자의 질문에 2문장 이내로 짧게 대답해\\nHuman: 주말에는 영화를 보러 갈 거야!\\nAI: 주말이 벌써부터 기다려지겠는걸? 보려구 생각해둔 영화가 있어?\\nHuman: 오늘 뭘 먹는다고 했지?\"\n",
      "  ]\n",
      "}\n",
      "\u001b[36;1m\u001b[1;3m[llm/end]\u001b[0m \u001b[1m[chain:RunnableSequence > llm:ChatOpenAI] [1.25s] Exiting LLM run with output:\n",
      "\u001b[0m{\n",
      "  \"generations\": [\n",
      "    [\n",
      "      {\n",
      "        \"generation_info\": {\n",
      "          \"finish_reason\": \"stop\",\n",
      "          \"logprobs\": null\n",
      "        },\n",
      "        \"type\": \"ChatGeneration\",\n",
      "        \"message\": {\n",
      "          \"lc\": 1,\n",
      "          \"type\": \"constructor\",\n",
      "          \"id\": [\n",
      "            \"langchain\",\n",
      "            \"schema\",\n",
      "            \"messages\",\n",
      "            \"AIMessage\"\n",
      "          ],\n",
      "          \"kwargs\": {\n",
      "            \"content\": \"오늘 먹을 음식에 대한 언급은 없었어, 뭘 먹을지 정했어?\",\n",
      "            \"additional_kwargs\": {\n",
      "              \"refusal\": null\n",
      "            },\n",
      "            \"response_metadata\": {\n",
      "              \"token_usage\": {\n",
      "                \"completion_tokens\": 23,\n",
      "                \"prompt_tokens\": 81,\n",
      "                \"total_tokens\": 104,\n",
      "                \"completion_tokens_details\": {\n",
      "                  \"accepted_prediction_tokens\": 0,\n",
      "                  \"audio_tokens\": 0,\n",
      "                  \"reasoning_tokens\": 0,\n",
      "                  \"rejected_prediction_tokens\": 0\n",
      "                },\n",
      "                \"prompt_tokens_details\": {\n",
      "                  \"audio_tokens\": 0,\n",
      "                  \"cached_tokens\": 0\n",
      "                }\n",
      "              },\n",
      "              \"model_name\": \"gpt-4o-mini-2024-07-18\",\n",
      "              \"system_fingerprint\": \"fp_62a23a81ef\",\n",
      "              \"id\": \"chatcmpl-Bg999ob60DrZvvwrrMWaPqYRY4VKQ\",\n",
      "              \"service_tier\": \"default\",\n",
      "              \"finish_reason\": \"stop\",\n",
      "              \"logprobs\": null\n",
      "            },\n",
      "            \"type\": \"ai\",\n",
      "            \"id\": \"run--6176d085-359c-418a-9182-d3d61af5ab2c-0\",\n",
      "            \"usage_metadata\": {\n",
      "              \"input_tokens\": 81,\n",
      "              \"output_tokens\": 23,\n",
      "              \"total_tokens\": 104,\n",
      "              \"input_token_details\": {\n",
      "                \"audio\": 0,\n",
      "                \"cache_read\": 0\n",
      "              },\n",
      "              \"output_token_details\": {\n",
      "                \"audio\": 0,\n",
      "                \"reasoning\": 0\n",
      "              }\n",
      "            },\n",
      "            \"tool_calls\": [],\n",
      "            \"invalid_tool_calls\": []\n",
      "          }\n",
      "        },\n",
      "        \"text\": \"오늘 먹을 음식에 대한 언급은 없었어, 뭘 먹을지 정했어?\"\n",
      "      }\n",
      "    ]\n",
      "  ],\n",
      "  \"llm_output\": {\n",
      "    \"token_usage\": {\n",
      "      \"completion_tokens\": 23,\n",
      "      \"prompt_tokens\": 81,\n",
      "      \"total_tokens\": 104,\n",
      "      \"completion_tokens_details\": {\n",
      "        \"accepted_prediction_tokens\": 0,\n",
      "        \"audio_tokens\": 0,\n",
      "        \"reasoning_tokens\": 0,\n",
      "        \"rejected_prediction_tokens\": 0\n",
      "      },\n",
      "      \"prompt_tokens_details\": {\n",
      "        \"audio_tokens\": 0,\n",
      "        \"cached_tokens\": 0\n",
      "      }\n",
      "    },\n",
      "    \"model_name\": \"gpt-4o-mini-2024-07-18\",\n",
      "    \"system_fingerprint\": \"fp_62a23a81ef\",\n",
      "    \"id\": \"chatcmpl-Bg999ob60DrZvvwrrMWaPqYRY4VKQ\",\n",
      "    \"service_tier\": \"default\"\n",
      "  },\n",
      "  \"run\": null,\n",
      "  \"type\": \"LLMResult\"\n",
      "}\n",
      "\u001b[32;1m\u001b[1;3m[chain/start]\u001b[0m \u001b[1m[chain:RunnableSequence > parser:StrOutputParser] Entering Parser run with input:\n",
      "\u001b[0m[inputs]\n",
      "\u001b[36;1m\u001b[1;3m[chain/end]\u001b[0m \u001b[1m[chain:RunnableSequence > parser:StrOutputParser] [0ms] Exiting Parser run with output:\n",
      "\u001b[0m{\n",
      "  \"output\": \"오늘 먹을 음식에 대한 언급은 없었어, 뭘 먹을지 정했어?\"\n",
      "}\n",
      "\u001b[36;1m\u001b[1;3m[chain/end]\u001b[0m \u001b[1m[chain:RunnableSequence] [1.25s] Exiting Chain run with output:\n",
      "\u001b[0m{\n",
      "  \"output\": \"오늘 먹을 음식에 대한 언급은 없었어, 뭘 먹을지 정했어?\"\n",
      "}\n"
     ]
    },
    {
     "data": {
      "text/plain": [
       "'오늘 먹을 음식에 대한 언급은 없었어, 뭘 먹을지 정했어?'"
      ]
     },
     "execution_count": 21,
     "metadata": {},
     "output_type": "execute_result"
    }
   ],
   "source": [
    "chain.invoke(messages + [\n",
    "    HumanMessage(content=\"오늘 뭘 먹는다고 했지?\")\n",
    "])"
   ]
  },
  {
   "cell_type": "code",
   "execution_count": 22,
   "id": "f4e7dc3a",
   "metadata": {},
   "outputs": [
    {
     "name": "stdout",
     "output_type": "stream",
     "text": [
      "\u001b[32;1m\u001b[1;3m[chain/start]\u001b[0m \u001b[1m[chain:RunnableSequence] Entering Chain run with input:\n",
      "\u001b[0m[inputs]\n",
      "\u001b[32;1m\u001b[1;3m[chain/start]\u001b[0m \u001b[1m[chain:RunnableSequence > chain:trim_messages] Entering Chain run with input:\n",
      "\u001b[0m[inputs]\n",
      "\u001b[36;1m\u001b[1;3m[chain/end]\u001b[0m \u001b[1m[chain:RunnableSequence > chain:trim_messages] [1ms] Exiting Chain run with output:\n",
      "\u001b[0m[outputs]\n",
      "\u001b[32;1m\u001b[1;3m[llm/start]\u001b[0m \u001b[1m[chain:RunnableSequence > llm:ChatOpenAI] Entering LLM run with input:\n",
      "\u001b[0m{\n",
      "  \"prompts\": [\n",
      "    \"System: 사용자의 질문에 2문장 이내로 짧게 대답해\\nHuman: 주말에는 영화를 보러 갈 거야!\\nAI: 주말이 벌써부터 기다려지겠는걸? 보려구 생각해둔 영화가 있어?\\nHuman: 주말에 내가 뭐하러 간다고 했지?\"\n",
      "  ]\n",
      "}\n",
      "\u001b[36;1m\u001b[1;3m[llm/end]\u001b[0m \u001b[1m[chain:RunnableSequence > llm:ChatOpenAI] [1.20s] Exiting LLM run with output:\n",
      "\u001b[0m{\n",
      "  \"generations\": [\n",
      "    [\n",
      "      {\n",
      "        \"generation_info\": {\n",
      "          \"finish_reason\": \"stop\",\n",
      "          \"logprobs\": null\n",
      "        },\n",
      "        \"type\": \"ChatGeneration\",\n",
      "        \"message\": {\n",
      "          \"lc\": 1,\n",
      "          \"type\": \"constructor\",\n",
      "          \"id\": [\n",
      "            \"langchain\",\n",
      "            \"schema\",\n",
      "            \"messages\",\n",
      "            \"AIMessage\"\n",
      "          ],\n",
      "          \"kwargs\": {\n",
      "            \"content\": \"주말에 영화를 보러 간다고 했어!\",\n",
      "            \"additional_kwargs\": {\n",
      "              \"refusal\": null\n",
      "            },\n",
      "            \"response_metadata\": {\n",
      "              \"token_usage\": {\n",
      "                \"completion_tokens\": 12,\n",
      "                \"prompt_tokens\": 83,\n",
      "                \"total_tokens\": 95,\n",
      "                \"completion_tokens_details\": {\n",
      "                  \"accepted_prediction_tokens\": 0,\n",
      "                  \"audio_tokens\": 0,\n",
      "                  \"reasoning_tokens\": 0,\n",
      "                  \"rejected_prediction_tokens\": 0\n",
      "                },\n",
      "                \"prompt_tokens_details\": {\n",
      "                  \"audio_tokens\": 0,\n",
      "                  \"cached_tokens\": 0\n",
      "                }\n",
      "              },\n",
      "              \"model_name\": \"gpt-4o-mini-2024-07-18\",\n",
      "              \"system_fingerprint\": \"fp_62a23a81ef\",\n",
      "              \"id\": \"chatcmpl-Bg99ldULHqTD6PZJ3uEr4s1eTYkXr\",\n",
      "              \"service_tier\": \"default\",\n",
      "              \"finish_reason\": \"stop\",\n",
      "              \"logprobs\": null\n",
      "            },\n",
      "            \"type\": \"ai\",\n",
      "            \"id\": \"run--88737590-3b99-41b5-b5bb-383c4c9d99e2-0\",\n",
      "            \"usage_metadata\": {\n",
      "              \"input_tokens\": 83,\n",
      "              \"output_tokens\": 12,\n",
      "              \"total_tokens\": 95,\n",
      "              \"input_token_details\": {\n",
      "                \"audio\": 0,\n",
      "                \"cache_read\": 0\n",
      "              },\n",
      "              \"output_token_details\": {\n",
      "                \"audio\": 0,\n",
      "                \"reasoning\": 0\n",
      "              }\n",
      "            },\n",
      "            \"tool_calls\": [],\n",
      "            \"invalid_tool_calls\": []\n",
      "          }\n",
      "        },\n",
      "        \"text\": \"주말에 영화를 보러 간다고 했어!\"\n",
      "      }\n",
      "    ]\n",
      "  ],\n",
      "  \"llm_output\": {\n",
      "    \"token_usage\": {\n",
      "      \"completion_tokens\": 12,\n",
      "      \"prompt_tokens\": 83,\n",
      "      \"total_tokens\": 95,\n",
      "      \"completion_tokens_details\": {\n",
      "        \"accepted_prediction_tokens\": 0,\n",
      "        \"audio_tokens\": 0,\n",
      "        \"reasoning_tokens\": 0,\n",
      "        \"rejected_prediction_tokens\": 0\n",
      "      },\n",
      "      \"prompt_tokens_details\": {\n",
      "        \"audio_tokens\": 0,\n",
      "        \"cached_tokens\": 0\n",
      "      }\n",
      "    },\n",
      "    \"model_name\": \"gpt-4o-mini-2024-07-18\",\n",
      "    \"system_fingerprint\": \"fp_62a23a81ef\",\n",
      "    \"id\": \"chatcmpl-Bg99ldULHqTD6PZJ3uEr4s1eTYkXr\",\n",
      "    \"service_tier\": \"default\"\n",
      "  },\n",
      "  \"run\": null,\n",
      "  \"type\": \"LLMResult\"\n",
      "}\n",
      "\u001b[32;1m\u001b[1;3m[chain/start]\u001b[0m \u001b[1m[chain:RunnableSequence > parser:StrOutputParser] Entering Parser run with input:\n",
      "\u001b[0m[inputs]\n",
      "\u001b[36;1m\u001b[1;3m[chain/end]\u001b[0m \u001b[1m[chain:RunnableSequence > parser:StrOutputParser] [0ms] Exiting Parser run with output:\n",
      "\u001b[0m{\n",
      "  \"output\": \"주말에 영화를 보러 간다고 했어!\"\n",
      "}\n",
      "\u001b[36;1m\u001b[1;3m[chain/end]\u001b[0m \u001b[1m[chain:RunnableSequence] [1.21s] Exiting Chain run with output:\n",
      "\u001b[0m{\n",
      "  \"output\": \"주말에 영화를 보러 간다고 했어!\"\n",
      "}\n"
     ]
    },
    {
     "data": {
      "text/plain": [
       "'주말에 영화를 보러 간다고 했어!'"
      ]
     },
     "execution_count": 22,
     "metadata": {},
     "output_type": "execute_result"
    }
   ],
   "source": [
    "chain.invoke(messages + [\n",
    "    HumanMessage(content=\"주말에 내가 뭐하러 간다고 했지?\")\n",
    "])"
   ]
  },
  {
   "cell_type": "code",
   "execution_count": 20,
   "id": "8a67946d",
   "metadata": {},
   "outputs": [],
   "source": [
    "import langchain\n",
    "langchain.debug = True"
   ]
  }
 ],
 "metadata": {
  "kernelspec": {
   "display_name": "Python 3",
   "language": "python",
   "name": "python3"
  },
  "language_info": {
   "codemirror_mode": {
    "name": "ipython",
    "version": 3
   },
   "file_extension": ".py",
   "mimetype": "text/x-python",
   "name": "python",
   "nbconvert_exporter": "python",
   "pygments_lexer": "ipython3",
   "version": "3.11.9"
  }
 },
 "nbformat": 4,
 "nbformat_minor": 5
}
