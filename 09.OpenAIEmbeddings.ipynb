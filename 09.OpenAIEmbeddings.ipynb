{
 "cells": [
  {
   "cell_type": "code",
   "execution_count": 1,
   "id": "031b3c1f",
   "metadata": {},
   "outputs": [
    {
     "data": {
      "text/plain": [
       "True"
      ]
     },
     "execution_count": 1,
     "metadata": {},
     "output_type": "execute_result"
    }
   ],
   "source": [
    "from dotenv import load_dotenv\n",
    "load_dotenv()"
   ]
  },
  {
   "cell_type": "code",
   "execution_count": 2,
   "id": "e2af7c9c",
   "metadata": {},
   "outputs": [],
   "source": [
    "from langchain_openai import OpenAIEmbeddings\n",
    "openai_embeddings = OpenAIEmbeddings(model=\"text-embedding-3-small\")\n",
    "\n",
    "news = [\n",
    "    \"정치 : 최근 대선 후보 토론에서 양당의 입장이 강하게 충돌했습니다. 후보들은 세금 정책과 사회 복지 확대 여부를 두고 팽팽한 신경전을 벌였습니다. 전문가들은 이번 선거가 향후 10년간 정치 지형을 크게 변화시킬 것이라고 전망합니다.\",\n",
    "    \"경제 : 세계적인 인플레이션 압박으로 각국 중앙은행들이 금리 인상에 나섰습니다. 특히 미국 연방준비제도는 예상보다 더 강력한 금리 인상을 단행하며 시장에 충격을 주었습니다. 이로 인해 주식과 채권 시장에서 대규모 매도세가 발생했습니다.\",\n",
    "    \"과학 : 새로운 암 치료법이 임상시험에서 획기적인 성과를 거두었습니다. 연구팀은 유전자 편집 기술을 이용해 특정 암세포만을 표적으로 삼는 방법을 개발했습니다. 이 치료법이 상용화된다면 기존 치료법보다 부작용이 크게 줄어들 것으로 기대됩니다.\",\n",
    "    \"기술 : 인공지능(AI) 기반 번역 서비스가 급속도로 발전하면서 글로벌 소통의 장벽이 낮아지고 있습니다. 최근 출시된 AI 번역기는 실시간으로 음성을 번역해주는 기능을 제공하며, 다양한 언어를 지원합니다. 이에 따라 다국적 비즈니스와 국제 회의의 효율성이 크게 향상될 것으로 보입니다.\",\n",
    "    \"환경 : 지구 온난화로 인한 극단적인 기후 변화가 전 세계적으로 심각한 피해를 초래하고 있습니다. 북극 해빙이 급격히 녹고 있으며, 이로 인해 해수면 상승이 가속화되고 있습니다. 환경 단체들은 즉각적인 탄소 배출 감축이 필요하다고 경고하고 있습니다.\",\n",
    "    \"사회 : 최근 젊은 층 사이에서 미니멀리즘 라이프스타일이 인기를 끌고 있습니다. 불필요한 물건을 줄이고 필수품만을 소유하는 이 방식은 스트레스 감소와 심리적 안정에 도움을 준다고 알려져 있습니다. 이에 따라 관련 제품과 서비스 시장도 확대되고 있습니다.\",\n",
    "    \"국제 : 아시아-태평양 지역에서의 경제 협력이 강화되고 있습니다. 주요 국가들은 무역 장벽을 낮추고 공동 개발 프로젝트를 추진하며 상호 이익을 추구하고 있습니다. 그러나 중국과 미국 간의 갈등이 여전히 지역 안정에 큰 변수로 작용하고 있습니다.\",\n",
    "    \"보건 : 최근 신종 바이러스의 확산이 일부 국가에서 급격히 증가하고 있습니다. 이에 따라 각국 정부는 예방접종 캠페인과 함께 강력한 방역 조치를 시행하고 있습니다. 보건 전문가들은 지속적인 모니터링과 빠른 대응이 필요하다고 강조하고 있습니다.\",\n",
    "    \"문화 : 전통 예술과 현대 기술이 결합된 새로운 형태의 공연 예술이 인기를 끌고 있습니다. 디지털 기술을 활용한 무대 연출과 실시간 인터랙티브 요소가 관객의 몰입감을 높이고 있습니다. 이 같은 시도가 예술계에 신선한 변화를 가져오고 있습니다.\",\n",
    "    \"우주 : NASA가 새롭게 발사한 우주 망원경이 태양계 외곽의 신비로운 행성을 발견했습니다. 과학자들은 이 행성의 대기에서 생명체의 존재를 암시하는 화합물을 발견했다고 발표했습니다. 이 발견은 우주 탐사에 새로운 이정표가 될 것으로 기대됩니다.\"\n",
    "]\n",
    "\n",
    "embeddings = openai_embeddings.embed_documents(news)"
   ]
  },
  {
   "cell_type": "code",
   "execution_count": 3,
   "id": "60a89691",
   "metadata": {},
   "outputs": [
    {
     "data": {
      "text/plain": [
       "10"
      ]
     },
     "execution_count": 3,
     "metadata": {},
     "output_type": "execute_result"
    }
   ],
   "source": [
    "len(embeddings)"
   ]
  },
  {
   "cell_type": "code",
   "execution_count": 4,
   "id": "33ca1ee0",
   "metadata": {},
   "outputs": [
    {
     "data": {
      "text/plain": [
       "1536"
      ]
     },
     "execution_count": 4,
     "metadata": {},
     "output_type": "execute_result"
    }
   ],
   "source": [
    "len(embeddings[0])"
   ]
  },
  {
   "cell_type": "code",
   "execution_count": 5,
   "id": "bc2a882c",
   "metadata": {},
   "outputs": [
    {
     "data": {
      "text/plain": [
       "[0.022437771782279015,\n",
       " 0.03622586652636528,\n",
       " 0.0017810516292229295,\n",
       " 0.03725355118513107,\n",
       " -0.0058288960717618465,\n",
       " 0.047658853232860565,\n",
       " 0.000804216368123889,\n",
       " 0.04228492081165314,\n",
       " 0.031066035851836205,\n",
       " 0.020082661882042885]"
      ]
     },
     "execution_count": 5,
     "metadata": {},
     "output_type": "execute_result"
    }
   ],
   "source": [
    "embeddings[0][:10]"
   ]
  },
  {
   "cell_type": "code",
   "execution_count": 11,
   "id": "95260539",
   "metadata": {},
   "outputs": [
    {
     "data": {
      "text/plain": [
       "[0.021418901160359383,\n",
       " 0.005798292811959982,\n",
       " -0.010703068226575851,\n",
       " 0.0013227255549281836,\n",
       " -0.03972325101494789,\n",
       " 0.028413869440555573,\n",
       " -0.0202700924128294,\n",
       " 0.04061676934361458,\n",
       " 0.028286224231123924,\n",
       " -0.03466849401593208]"
      ]
     },
     "execution_count": 11,
     "metadata": {},
     "output_type": "execute_result"
    }
   ],
   "source": [
    "embedded_query = openai_embeddings.embed_query(\"대선 후보 토론\")\n",
    "embedded_query[:10]"
   ]
  },
  {
   "cell_type": "code",
   "execution_count": 8,
   "id": "f1bfd03d",
   "metadata": {},
   "outputs": [
    {
     "data": {
      "text/plain": [
       "[0.0228562168776989,\n",
       " 0.026005083695054054,\n",
       " 0.003834313014522195,\n",
       " 0.034002963453531265,\n",
       " -0.0025651883333921432,\n",
       " -0.0025831477250903845,\n",
       " -0.0103984409943223,\n",
       " 0.02065320871770382,\n",
       " 0.01669018715620041,\n",
       " -0.03134498372673988]"
      ]
     },
     "execution_count": 8,
     "metadata": {},
     "output_type": "execute_result"
    }
   ],
   "source": [
    "embedded_query = openai_embeddings.embed_query(\"태양계 밖의 새로운 행성 발견\")\n",
    "embedded_query[:10]"
   ]
  },
  {
   "cell_type": "code",
   "execution_count": null,
   "id": "f6c1005e",
   "metadata": {},
   "outputs": [],
   "source": [
    "from numpy import dot\n",
    "from numpy.linalg import norm\n",
    "\n",
    "#코사인 유사도 계산\n",
    "def cosine_similarity(A, B):\n",
    "    return dot(A, B) / (norm(A) * norm(B))"
   ]
  },
  {
   "cell_type": "code",
   "execution_count": 12,
   "id": "f29ba57b",
   "metadata": {},
   "outputs": [
    {
     "name": "stdout",
     "output_type": "stream",
     "text": [
      "0.5446941450464667\n",
      "0.1550447066591029\n",
      "0.14308213593888996\n",
      "0.16126530913612105\n",
      "0.1429150576571275\n",
      "0.2109770663319731\n",
      "0.09477325779689885\n",
      "0.14924779164315338\n",
      "0.2775647557135706\n",
      "0.16664954121435865\n"
     ]
    }
   ],
   "source": [
    "for embedding in embeddings:\n",
    "    print(cosine_similarity(embedding, embedded_query))"
   ]
  }
 ],
 "metadata": {
  "kernelspec": {
   "display_name": "Python 3",
   "language": "python",
   "name": "python3"
  },
  "language_info": {
   "codemirror_mode": {
    "name": "ipython",
    "version": 3
   },
   "file_extension": ".py",
   "mimetype": "text/x-python",
   "name": "python",
   "nbconvert_exporter": "python",
   "pygments_lexer": "ipython3",
   "version": "3.11.9"
  }
 },
 "nbformat": 4,
 "nbformat_minor": 5
}
