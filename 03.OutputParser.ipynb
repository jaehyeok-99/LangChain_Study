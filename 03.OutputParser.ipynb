{
 "cells": [
  {
   "cell_type": "code",
   "execution_count": 4,
   "id": "5ea15f9b",
   "metadata": {},
   "outputs": [
    {
     "data": {
      "text/plain": [
       "True"
      ]
     },
     "execution_count": 4,
     "metadata": {},
     "output_type": "execute_result"
    }
   ],
   "source": [
    "from dotenv import load_dotenv\n",
    "load_dotenv()"
   ]
  },
  {
   "cell_type": "code",
   "execution_count": 5,
   "id": "25fb91aa",
   "metadata": {},
   "outputs": [
    {
     "data": {
      "text/plain": [
       "AIMessage(content='병원은 의료 서비스와 치료를 제공하는 기관입니다. 의사, 간호사, 그리고 다양한 의료 전문가들이 근무하며, 환자들의 건강 문제를 진단하고 치료합니다. 병원은 응급실, 외래 진료, 입원 치료, 수술실 등 여러 시설을 갖추고 있어, 다양한 의료 서비스를 제공합니다. 병원은 또한 연구 및 교육의 역할도 수행하며, 지역 사회의 건강 증진에 기여합니다.', additional_kwargs={'refusal': None}, response_metadata={'token_usage': {'completion_tokens': 98, 'prompt_tokens': 22, 'total_tokens': 120, 'completion_tokens_details': {'accepted_prediction_tokens': 0, 'audio_tokens': 0, 'reasoning_tokens': 0, 'rejected_prediction_tokens': 0}, 'prompt_tokens_details': {'audio_tokens': 0, 'cached_tokens': 0}}, 'model_name': 'gpt-4o-mini-2024-07-18', 'system_fingerprint': 'fp_34a54ae93c', 'id': 'chatcmpl-BetQyfuOM7C5xoSRfdo8GhBObN0hg', 'service_tier': 'default', 'finish_reason': 'stop', 'logprobs': None}, id='run--a551ef53-6304-4d2a-8e86-63c280b2fafc-0', usage_metadata={'input_tokens': 22, 'output_tokens': 98, 'total_tokens': 120, 'input_token_details': {'audio': 0, 'cache_read': 0}, 'output_token_details': {'audio': 0, 'reasoning': 0}})"
      ]
     },
     "execution_count": 5,
     "metadata": {},
     "output_type": "execute_result"
    }
   ],
   "source": [
    "from langchain_openai import ChatOpenAI\n",
    "from langchain_core.prompts import PromptTemplate\n",
    "\n",
    "llm = ChatOpenAI(model=\"gpt-4o-mini\")\n",
    "prompt_template = PromptTemplate.from_template(\n",
    "    \"입력한 단어에 대해 간단히 설명하세요: {word}\"\n",
    ")\n",
    "\n",
    "chain = prompt_template | llm\n",
    "chain.invoke(\n",
    "    {\n",
    "        \"word\": \"병원\"\n",
    "    }\n",
    ")   "
   ]
  },
  {
   "cell_type": "code",
   "execution_count": 6,
   "id": "da69df4d",
   "metadata": {},
   "outputs": [
    {
     "data": {
      "text/plain": [
       "'병원은 질병이나 부상으로 고통받는 사람들을 치료하고 돌보는 의료 기관입니다. 의사, 간호사, 약사 등 다양한 의료 전문가들이 근무하며, 환자에게 필요한 진료, 검사, 수술 및 기타 치료 서비스를 제공합니다. 병원은 응급실, 외래 진료소, 입원 병동 등 여러 분야로 나뉘어 있으며, 종합병원, 전문병원 등 다양한 형태가 있습니다. 병원은 건강 유지와 회복을 위한 중요한 역할을 수행합니다.'"
      ]
     },
     "execution_count": 6,
     "metadata": {},
     "output_type": "execute_result"
    }
   ],
   "source": [
    "from langchain_core.output_parsers import StrOutputParser\n",
    "parser = StrOutputParser()\n",
    "\n",
    "chain = prompt_template | llm | parser\n",
    "chain.invoke({\"word\": \"병원\"})"
   ]
  },
  {
   "cell_type": "code",
   "execution_count": 7,
   "id": "1fbfea8f",
   "metadata": {},
   "outputs": [
    {
     "data": {
      "text/plain": [
       "'Return a JSON object.'"
      ]
     },
     "execution_count": 7,
     "metadata": {},
     "output_type": "execute_result"
    }
   ],
   "source": [
    "from langchain_core.output_parsers import JsonOutputParser\n",
    "parser = JsonOutputParser()\n",
    "parser.get_format_instructions()"
   ]
  },
  {
   "cell_type": "code",
   "execution_count": 8,
   "id": "b3144b59",
   "metadata": {},
   "outputs": [
    {
     "data": {
      "text/plain": [
       "{'관련_단어': ['의사', '간호사', '환자', '치료', '진료', '약국', '수술', '검사', '응급실', '입원']}"
      ]
     },
     "execution_count": 8,
     "metadata": {},
     "output_type": "execute_result"
    }
   ],
   "source": [
    "promote_template = PromptTemplate(\n",
    "    template=\"\"\"\n",
    "    입력한 단어와 관련 있는 단어를 알려주세요\n",
    "    - 제약 사항: {format_instructions}\n",
    "    - 입력 단어: {word}\n",
    "    \"\"\",\n",
    "    input_variables=[\"word\"],\n",
    "    partial_variables={\"format_instructions\": parser.get_format_instructions()},\n",
    ")\n",
    "\n",
    "chain = promote_template | llm | parser\n",
    "chain.invoke({\"word\": \"병원\"})"
   ]
  },
  {
   "cell_type": "code",
   "execution_count": 9,
   "id": "11f41c65",
   "metadata": {},
   "outputs": [
    {
     "data": {
      "text/plain": [
       "'Your response should be a list of comma separated values, eg: `foo, bar, baz` or `foo,bar,baz`'"
      ]
     },
     "execution_count": 9,
     "metadata": {},
     "output_type": "execute_result"
    }
   ],
   "source": [
    "from langchain_core.output_parsers import CommaSeparatedListOutputParser \n",
    "parser = CommaSeparatedListOutputParser()\n",
    "parser.get_format_instructions()\n",
    "# 콤마형태로의 리스트 출력"
   ]
  },
  {
   "cell_type": "code",
   "execution_count": 10,
   "id": "b82d6cca",
   "metadata": {},
   "outputs": [
    {
     "data": {
      "text/plain": [
       "['병원', '치료', '의사', '간호사', '환자', '약국', '수술', '진료', '응급실', '입원']"
      ]
     },
     "execution_count": 10,
     "metadata": {},
     "output_type": "execute_result"
    }
   ],
   "source": [
    "promote_template = PromptTemplate(\n",
    "    template=\"\"\"\n",
    "    입력한 단어와 관련 있는 단어를 알려주세요\n",
    "    - 제약 사항: {format_instructions}\n",
    "    - 입력 단어: {word}\n",
    "    \"\"\",\n",
    "    input_variables=[\"word\"],\n",
    "    partial_variables={\"format_instructions\": parser.get_format_instructions()},\n",
    ")\n",
    "\n",
    "chain = promote_template | llm | parser\n",
    "chain.invoke({\"word\": \"병원\"})"
   ]
  }
 ],
 "metadata": {
  "kernelspec": {
   "display_name": "Python 3",
   "language": "python",
   "name": "python3"
  },
  "language_info": {
   "codemirror_mode": {
    "name": "ipython",
    "version": 3
   },
   "file_extension": ".py",
   "mimetype": "text/x-python",
   "name": "python",
   "nbconvert_exporter": "python",
   "pygments_lexer": "ipython3",
   "version": "3.11.9"
  }
 },
 "nbformat": 4,
 "nbformat_minor": 5
}
